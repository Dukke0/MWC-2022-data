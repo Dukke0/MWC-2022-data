{
 "cells": [
  {
   "cell_type": "markdown",
   "id": "980e2d0c",
   "metadata": {},
   "source": [
    "## 0. Loading required data"
   ]
  },
  {
   "cell_type": "code",
   "execution_count": 1,
   "id": "6a63bd92",
   "metadata": {},
   "outputs": [],
   "source": [
    "import pandas as pd\n",
    "import numpy as np \n",
    "from sklearn.metrics import f1_score\n",
    "# To plot pretty figures\n",
    "%matplotlib inline\n",
    "import matplotlib as mpl\n",
    "import matplotlib.pyplot as plt\n",
    "\n",
    "mpl.rc('axes', labelsize=14)\n",
    "mpl.rc('xtick', labelsize=12)\n",
    "mpl.rc('ytick', labelsize=12)\n",
    "plt.rc('font', size=12) \n",
    "plt.rc('figure', figsize = (12, 5))\n",
    "\n",
    "# Settings for the visualizations\n",
    "import seaborn as sns\n",
    "sns.set_style(\"whitegrid\")\n",
    "sns.set_context(\"notebook\", font_scale=1, rc={\"lines.linewidth\": 2,'font.family': [u'times']})\n",
    "\n",
    "# Ignore useless warnings (see SciPy issue #5998)\n",
    "import warnings\n",
    "warnings.filterwarnings(action=\"ignore\", message=\"^internal gelsd\")"
   ]
  },
  {
   "cell_type": "code",
   "execution_count": 2,
   "id": "e3dca1d5",
   "metadata": {},
   "outputs": [],
   "source": [
    "clients = pd.read_csv('mwc22-client_table.csv', decimal=',')\n",
    "orders = pd.read_csv('mwc22-orders_table.csv', decimal=',')"
   ]
  },
  {
   "cell_type": "markdown",
   "id": "96a4feda",
   "metadata": {},
   "source": [
    "## 1. Understanding the data"
   ]
  },
  {
   "cell_type": "markdown",
   "id": "7ccc185c",
   "metadata": {},
   "source": [
    "### Client table analisis"
   ]
  },
  {
   "cell_type": "markdown",
   "id": "ef2492d2",
   "metadata": {},
   "source": [
    "*------------------------------------------------------------------------------------------------------------------------------------------*\n",
    "\n",
    "**CLIENT ID:** Identificador único del cliente \n",
    "\n",
    "**CLIENT_SEGMENT:** Segmento de clientes\n",
    "\n",
    "**AVG CONSO:** Consumo medio mensual del cliente calculado a finales de 2020 (en piezas de fruta)\n",
    "\n",
    "**AVG BASKET SIZE:** Tamaño medio de la cesta del cliente calculado a finales de 2020 (en piezas de fruta)\n",
    "\n",
    "**RECEIVED_COMMUNICATION:** 1 = Recibió promoción de sus productos / 0 = no la recibió\n",
    "\n",
    "*------------------------------------------------------------------------------------------------------------------------------------------*"
   ]
  },
  {
   "cell_type": "code",
   "execution_count": 3,
   "id": "0999ca9c",
   "metadata": {},
   "outputs": [],
   "source": [
    "clients.columns = [c.replace(' ', '_') for c in clients.columns]"
   ]
  },
  {
   "cell_type": "code",
   "execution_count": 4,
   "id": "ce1951a4",
   "metadata": {},
   "outputs": [
    {
     "data": {
      "text/html": [
       "<div>\n",
       "<style scoped>\n",
       "    .dataframe tbody tr th:only-of-type {\n",
       "        vertical-align: middle;\n",
       "    }\n",
       "\n",
       "    .dataframe tbody tr th {\n",
       "        vertical-align: top;\n",
       "    }\n",
       "\n",
       "    .dataframe thead th {\n",
       "        text-align: right;\n",
       "    }\n",
       "</style>\n",
       "<table border=\"1\" class=\"dataframe\">\n",
       "  <thead>\n",
       "    <tr style=\"text-align: right;\">\n",
       "      <th></th>\n",
       "      <th>CLIENT_ID</th>\n",
       "      <th>CLIENT_SEGMENT</th>\n",
       "      <th>AVG_CONSO</th>\n",
       "      <th>AVG_BASKET_SIZE</th>\n",
       "      <th>RECEIVED_COMMUNICATION</th>\n",
       "    </tr>\n",
       "  </thead>\n",
       "  <tbody>\n",
       "    <tr>\n",
       "      <th>0</th>\n",
       "      <td>24321771</td>\n",
       "      <td>6</td>\n",
       "      <td>67.25</td>\n",
       "      <td>201.75</td>\n",
       "      <td>0</td>\n",
       "    </tr>\n",
       "    <tr>\n",
       "      <th>1</th>\n",
       "      <td>24321859</td>\n",
       "      <td>2</td>\n",
       "      <td>58.33</td>\n",
       "      <td>350.00</td>\n",
       "      <td>0</td>\n",
       "    </tr>\n",
       "    <tr>\n",
       "      <th>2</th>\n",
       "      <td>24321880</td>\n",
       "      <td>3</td>\n",
       "      <td>46.67</td>\n",
       "      <td>112.00</td>\n",
       "      <td>0</td>\n",
       "    </tr>\n",
       "    <tr>\n",
       "      <th>3</th>\n",
       "      <td>24321957</td>\n",
       "      <td>2</td>\n",
       "      <td>50.00</td>\n",
       "      <td>600.00</td>\n",
       "      <td>0</td>\n",
       "    </tr>\n",
       "    <tr>\n",
       "      <th>4</th>\n",
       "      <td>24321962</td>\n",
       "      <td>4</td>\n",
       "      <td>10.00</td>\n",
       "      <td>120.00</td>\n",
       "      <td>0</td>\n",
       "    </tr>\n",
       "    <tr>\n",
       "      <th>5</th>\n",
       "      <td>24322000</td>\n",
       "      <td>5</td>\n",
       "      <td>9.17</td>\n",
       "      <td>110.00</td>\n",
       "      <td>0</td>\n",
       "    </tr>\n",
       "    <tr>\n",
       "      <th>6</th>\n",
       "      <td>24322006</td>\n",
       "      <td>3</td>\n",
       "      <td>58.33</td>\n",
       "      <td>100.00</td>\n",
       "      <td>0</td>\n",
       "    </tr>\n",
       "    <tr>\n",
       "      <th>7</th>\n",
       "      <td>24322026</td>\n",
       "      <td>4</td>\n",
       "      <td>29.17</td>\n",
       "      <td>87.50</td>\n",
       "      <td>0</td>\n",
       "    </tr>\n",
       "    <tr>\n",
       "      <th>8</th>\n",
       "      <td>24322170</td>\n",
       "      <td>1</td>\n",
       "      <td>116.67</td>\n",
       "      <td>200.00</td>\n",
       "      <td>0</td>\n",
       "    </tr>\n",
       "    <tr>\n",
       "      <th>9</th>\n",
       "      <td>24322371</td>\n",
       "      <td>2</td>\n",
       "      <td>83.33</td>\n",
       "      <td>200.00</td>\n",
       "      <td>0</td>\n",
       "    </tr>\n",
       "  </tbody>\n",
       "</table>\n",
       "</div>"
      ],
      "text/plain": [
       "   CLIENT_ID  CLIENT_SEGMENT  AVG_CONSO  AVG_BASKET_SIZE  \\\n",
       "0   24321771               6      67.25           201.75   \n",
       "1   24321859               2      58.33           350.00   \n",
       "2   24321880               3      46.67           112.00   \n",
       "3   24321957               2      50.00           600.00   \n",
       "4   24321962               4      10.00           120.00   \n",
       "5   24322000               5       9.17           110.00   \n",
       "6   24322006               3      58.33           100.00   \n",
       "7   24322026               4      29.17            87.50   \n",
       "8   24322170               1     116.67           200.00   \n",
       "9   24322371               2      83.33           200.00   \n",
       "\n",
       "   RECEIVED_COMMUNICATION  \n",
       "0                       0  \n",
       "1                       0  \n",
       "2                       0  \n",
       "3                       0  \n",
       "4                       0  \n",
       "5                       0  \n",
       "6                       0  \n",
       "7                       0  \n",
       "8                       0  \n",
       "9                       0  "
      ]
     },
     "execution_count": 4,
     "metadata": {},
     "output_type": "execute_result"
    }
   ],
   "source": [
    "clients.head(10)"
   ]
  },
  {
   "cell_type": "code",
   "execution_count": 5,
   "id": "937814b7",
   "metadata": {},
   "outputs": [
    {
     "data": {
      "text/html": [
       "<div>\n",
       "<style scoped>\n",
       "    .dataframe tbody tr th:only-of-type {\n",
       "        vertical-align: middle;\n",
       "    }\n",
       "\n",
       "    .dataframe tbody tr th {\n",
       "        vertical-align: top;\n",
       "    }\n",
       "\n",
       "    .dataframe thead th {\n",
       "        text-align: right;\n",
       "    }\n",
       "</style>\n",
       "<table border=\"1\" class=\"dataframe\">\n",
       "  <thead>\n",
       "    <tr style=\"text-align: right;\">\n",
       "      <th></th>\n",
       "      <th>CLIENT_ID</th>\n",
       "      <th>CLIENT_SEGMENT</th>\n",
       "      <th>AVG_CONSO</th>\n",
       "      <th>AVG_BASKET_SIZE</th>\n",
       "      <th>RECEIVED_COMMUNICATION</th>\n",
       "    </tr>\n",
       "  </thead>\n",
       "  <tbody>\n",
       "    <tr>\n",
       "      <th>count</th>\n",
       "      <td>3.588400e+04</td>\n",
       "      <td>35884.000000</td>\n",
       "      <td>35884.000000</td>\n",
       "      <td>35884.000000</td>\n",
       "      <td>35884.000000</td>\n",
       "    </tr>\n",
       "    <tr>\n",
       "      <th>mean</th>\n",
       "      <td>2.706058e+07</td>\n",
       "      <td>3.123593</td>\n",
       "      <td>64.534437</td>\n",
       "      <td>181.218610</td>\n",
       "      <td>0.507998</td>\n",
       "    </tr>\n",
       "    <tr>\n",
       "      <th>std</th>\n",
       "      <td>8.835076e+06</td>\n",
       "      <td>1.512932</td>\n",
       "      <td>64.381932</td>\n",
       "      <td>129.604691</td>\n",
       "      <td>0.499943</td>\n",
       "    </tr>\n",
       "    <tr>\n",
       "      <th>min</th>\n",
       "      <td>1.807311e+07</td>\n",
       "      <td>1.000000</td>\n",
       "      <td>0.830000</td>\n",
       "      <td>10.000000</td>\n",
       "      <td>0.000000</td>\n",
       "    </tr>\n",
       "    <tr>\n",
       "      <th>25%</th>\n",
       "      <td>2.053311e+07</td>\n",
       "      <td>2.000000</td>\n",
       "      <td>20.830000</td>\n",
       "      <td>100.000000</td>\n",
       "      <td>0.000000</td>\n",
       "    </tr>\n",
       "    <tr>\n",
       "      <th>50%</th>\n",
       "      <td>2.462190e+07</td>\n",
       "      <td>3.000000</td>\n",
       "      <td>50.000000</td>\n",
       "      <td>160.000000</td>\n",
       "      <td>1.000000</td>\n",
       "    </tr>\n",
       "    <tr>\n",
       "      <th>75%</th>\n",
       "      <td>3.298538e+07</td>\n",
       "      <td>4.000000</td>\n",
       "      <td>88.170000</td>\n",
       "      <td>225.000000</td>\n",
       "      <td>1.000000</td>\n",
       "    </tr>\n",
       "    <tr>\n",
       "      <th>max</th>\n",
       "      <td>4.836594e+07</td>\n",
       "      <td>6.000000</td>\n",
       "      <td>2433.330000</td>\n",
       "      <td>3400.200000</td>\n",
       "      <td>1.000000</td>\n",
       "    </tr>\n",
       "  </tbody>\n",
       "</table>\n",
       "</div>"
      ],
      "text/plain": [
       "          CLIENT_ID  CLIENT_SEGMENT     AVG_CONSO  AVG_BASKET_SIZE  \\\n",
       "count  3.588400e+04    35884.000000  35884.000000     35884.000000   \n",
       "mean   2.706058e+07        3.123593     64.534437       181.218610   \n",
       "std    8.835076e+06        1.512932     64.381932       129.604691   \n",
       "min    1.807311e+07        1.000000      0.830000        10.000000   \n",
       "25%    2.053311e+07        2.000000     20.830000       100.000000   \n",
       "50%    2.462190e+07        3.000000     50.000000       160.000000   \n",
       "75%    3.298538e+07        4.000000     88.170000       225.000000   \n",
       "max    4.836594e+07        6.000000   2433.330000      3400.200000   \n",
       "\n",
       "       RECEIVED_COMMUNICATION  \n",
       "count            35884.000000  \n",
       "mean                 0.507998  \n",
       "std                  0.499943  \n",
       "min                  0.000000  \n",
       "25%                  0.000000  \n",
       "50%                  1.000000  \n",
       "75%                  1.000000  \n",
       "max                  1.000000  "
      ]
     },
     "execution_count": 5,
     "metadata": {},
     "output_type": "execute_result"
    }
   ],
   "source": [
    "clients.describe()"
   ]
  },
  {
   "cell_type": "code",
   "execution_count": 6,
   "id": "b18fdcb9",
   "metadata": {},
   "outputs": [
    {
     "name": "stdout",
     "output_type": "stream",
     "text": [
      "<class 'pandas.core.frame.DataFrame'>\n",
      "RangeIndex: 35884 entries, 0 to 35883\n",
      "Data columns (total 5 columns):\n",
      " #   Column                  Non-Null Count  Dtype  \n",
      "---  ------                  --------------  -----  \n",
      " 0   CLIENT_ID               35884 non-null  int64  \n",
      " 1   CLIENT_SEGMENT          35884 non-null  int64  \n",
      " 2   AVG_CONSO               35884 non-null  float64\n",
      " 3   AVG_BASKET_SIZE         35884 non-null  float64\n",
      " 4   RECEIVED_COMMUNICATION  35884 non-null  int64  \n",
      "dtypes: float64(2), int64(3)\n",
      "memory usage: 1.4 MB\n"
     ]
    }
   ],
   "source": [
    "clients.info()"
   ]
  },
  {
   "cell_type": "code",
   "execution_count": 7,
   "id": "31ea47bc",
   "metadata": {},
   "outputs": [
    {
     "data": {
      "text/html": [
       "<div>\n",
       "<style scoped>\n",
       "    .dataframe tbody tr th:only-of-type {\n",
       "        vertical-align: middle;\n",
       "    }\n",
       "\n",
       "    .dataframe tbody tr th {\n",
       "        vertical-align: top;\n",
       "    }\n",
       "\n",
       "    .dataframe thead th {\n",
       "        text-align: right;\n",
       "    }\n",
       "</style>\n",
       "<table border=\"1\" class=\"dataframe\">\n",
       "  <thead>\n",
       "    <tr style=\"text-align: right;\">\n",
       "      <th></th>\n",
       "      <th>CLIENT_ID</th>\n",
       "      <th>CLIENT_SEGMENT</th>\n",
       "      <th>AVG_CONSO</th>\n",
       "      <th>AVG_BASKET_SIZE</th>\n",
       "      <th>RECEIVED_COMMUNICATION</th>\n",
       "    </tr>\n",
       "  </thead>\n",
       "  <tbody>\n",
       "    <tr>\n",
       "      <th>CLIENT_ID</th>\n",
       "      <td>1.000000</td>\n",
       "      <td>0.173009</td>\n",
       "      <td>-0.169518</td>\n",
       "      <td>-0.155996</td>\n",
       "      <td>-0.364580</td>\n",
       "    </tr>\n",
       "    <tr>\n",
       "      <th>CLIENT_SEGMENT</th>\n",
       "      <td>0.173009</td>\n",
       "      <td>1.000000</td>\n",
       "      <td>-0.404254</td>\n",
       "      <td>-0.200954</td>\n",
       "      <td>-0.106332</td>\n",
       "    </tr>\n",
       "    <tr>\n",
       "      <th>AVG_CONSO</th>\n",
       "      <td>-0.169518</td>\n",
       "      <td>-0.404254</td>\n",
       "      <td>1.000000</td>\n",
       "      <td>0.612749</td>\n",
       "      <td>0.175125</td>\n",
       "    </tr>\n",
       "    <tr>\n",
       "      <th>AVG_BASKET_SIZE</th>\n",
       "      <td>-0.155996</td>\n",
       "      <td>-0.200954</td>\n",
       "      <td>0.612749</td>\n",
       "      <td>1.000000</td>\n",
       "      <td>0.146823</td>\n",
       "    </tr>\n",
       "    <tr>\n",
       "      <th>RECEIVED_COMMUNICATION</th>\n",
       "      <td>-0.364580</td>\n",
       "      <td>-0.106332</td>\n",
       "      <td>0.175125</td>\n",
       "      <td>0.146823</td>\n",
       "      <td>1.000000</td>\n",
       "    </tr>\n",
       "  </tbody>\n",
       "</table>\n",
       "</div>"
      ],
      "text/plain": [
       "                        CLIENT_ID  CLIENT_SEGMENT  AVG_CONSO  AVG_BASKET_SIZE  \\\n",
       "CLIENT_ID                1.000000        0.173009  -0.169518        -0.155996   \n",
       "CLIENT_SEGMENT           0.173009        1.000000  -0.404254        -0.200954   \n",
       "AVG_CONSO               -0.169518       -0.404254   1.000000         0.612749   \n",
       "AVG_BASKET_SIZE         -0.155996       -0.200954   0.612749         1.000000   \n",
       "RECEIVED_COMMUNICATION  -0.364580       -0.106332   0.175125         0.146823   \n",
       "\n",
       "                        RECEIVED_COMMUNICATION  \n",
       "CLIENT_ID                            -0.364580  \n",
       "CLIENT_SEGMENT                       -0.106332  \n",
       "AVG_CONSO                             0.175125  \n",
       "AVG_BASKET_SIZE                       0.146823  \n",
       "RECEIVED_COMMUNICATION                1.000000  "
      ]
     },
     "execution_count": 7,
     "metadata": {},
     "output_type": "execute_result"
    }
   ],
   "source": [
    "corr = clients.corr()\n",
    "corr"
   ]
  },
  {
   "cell_type": "code",
   "execution_count": 8,
   "id": "b5c59ecd",
   "metadata": {},
   "outputs": [
    {
     "data": {
      "text/plain": [
       "<AxesSubplot:>"
      ]
     },
     "execution_count": 8,
     "metadata": {},
     "output_type": "execute_result"
    },
    {
     "data": {
      "image/png": "[encoded data removed]",
      "text/plain": [
       "<Figure size 864x360 with 2 Axes>"
      ]
     },
     "metadata": {},
     "output_type": "display_data"
    }
   ],
   "source": [
    "sns.heatmap(corr, \n",
    "        xticklabels=corr.columns,\n",
    "        yticklabels=corr.columns)"
   ]
  },
  {
   "cell_type": "code",
   "execution_count": 9,
   "id": "e61d5210",
   "metadata": {},
   "outputs": [
    {
     "data": {
      "image/png": "[encoded data removed]",
      "text/plain": [
       "<Figure size 864x360 with 1 Axes>"
      ]
     },
     "metadata": {},
     "output_type": "display_data"
    }
   ],
   "source": [
    "sns.histplot(clients['CLIENT_SEGMENT'])\n",
    "plt.show()"
   ]
  },
  {
   "cell_type": "code",
   "execution_count": 10,
   "id": "e095152b",
   "metadata": {},
   "outputs": [
    {
     "data": {
      "image/png": "[encoded data removed]",
      "text/plain": [
       "<Figure size 864x360 with 1 Axes>"
      ]
     },
     "metadata": {},
     "output_type": "display_data"
    }
   ],
   "source": [
    "sns.histplot(clients['AVG_CONSO'])\n",
    "plt.show()"
   ]
  },
  {
   "cell_type": "code",
   "execution_count": 11,
   "id": "612e3366",
   "metadata": {
    "scrolled": true
   },
   "outputs": [
    {
     "data": {
      "image/png": "[encoded data removed]",
      "text/plain": [
       "<Figure size 864x360 with 1 Axes>"
      ]
     },
     "metadata": {},
     "output_type": "display_data"
    }
   ],
   "source": [
    "sns.histplot(clients['AVG_BASKET_SIZE'])\n",
    "plt.show()"
   ]
  },
  {
   "cell_type": "markdown",
   "id": "853a0fab",
   "metadata": {},
   "source": [
    "### Orders table analisis\n",
    "\n",
    "*------------------------------------------------------------------------------------------------------------------------------------------*\n",
    "\n",
    "**CLIENT ID:** Identificador único del cliente\n",
    "\n",
    "**NB PRODS:** Número de 'prods' de la variedad de fruta en el pedido (1 prod = 10 piezas de fruta)\n",
    "\n",
    "**ORDER ID:** Identificador único del pedido\n",
    "\n",
    "**FRUIT_PRODUCT:** Variedad de fruta\n",
    "\n",
    "*------------------------------------------------------------------------------------------------------------------------------------------*\n"
   ]
  },
  {
   "cell_type": "code",
   "execution_count": 12,
   "id": "1c068abe",
   "metadata": {},
   "outputs": [],
   "source": [
    "orders.columns = [c.replace(' ', '_') for c in orders.columns]"
   ]
  },
  {
   "cell_type": "code",
   "execution_count": 13,
   "id": "26aef665",
   "metadata": {},
   "outputs": [
    {
     "data": {
      "text/html": [
       "<div>\n",
       "<style scoped>\n",
       "    .dataframe tbody tr th:only-of-type {\n",
       "        vertical-align: middle;\n",
       "    }\n",
       "\n",
       "    .dataframe tbody tr th {\n",
       "        vertical-align: top;\n",
       "    }\n",
       "\n",
       "    .dataframe thead th {\n",
       "        text-align: right;\n",
       "    }\n",
       "</style>\n",
       "<table border=\"1\" class=\"dataframe\">\n",
       "  <thead>\n",
       "    <tr style=\"text-align: right;\">\n",
       "      <th></th>\n",
       "      <th>CLIENT_ID</th>\n",
       "      <th>NB_PRODS</th>\n",
       "      <th>ORDER_ID</th>\n",
       "      <th>FRUIT_PRODUCT</th>\n",
       "    </tr>\n",
       "  </thead>\n",
       "  <tbody>\n",
       "    <tr>\n",
       "      <th>0</th>\n",
       "      <td>18070505</td>\n",
       "      <td>5</td>\n",
       "      <td>671907264</td>\n",
       "      <td>Apple</td>\n",
       "    </tr>\n",
       "    <tr>\n",
       "      <th>1</th>\n",
       "      <td>18070505</td>\n",
       "      <td>10</td>\n",
       "      <td>671907264</td>\n",
       "      <td>Orange</td>\n",
       "    </tr>\n",
       "    <tr>\n",
       "      <th>2</th>\n",
       "      <td>18070505</td>\n",
       "      <td>5</td>\n",
       "      <td>671907264</td>\n",
       "      <td>Kiwi</td>\n",
       "    </tr>\n",
       "    <tr>\n",
       "      <th>3</th>\n",
       "      <td>18070505</td>\n",
       "      <td>10</td>\n",
       "      <td>671907264</td>\n",
       "      <td>Pear</td>\n",
       "    </tr>\n",
       "    <tr>\n",
       "      <th>4</th>\n",
       "      <td>18070505</td>\n",
       "      <td>5</td>\n",
       "      <td>671907264</td>\n",
       "      <td>Cheery</td>\n",
       "    </tr>\n",
       "    <tr>\n",
       "      <th>5</th>\n",
       "      <td>18071016</td>\n",
       "      <td>5</td>\n",
       "      <td>675229714</td>\n",
       "      <td>Watermelon</td>\n",
       "    </tr>\n",
       "    <tr>\n",
       "      <th>6</th>\n",
       "      <td>18071016</td>\n",
       "      <td>10</td>\n",
       "      <td>675229714</td>\n",
       "      <td>Orange</td>\n",
       "    </tr>\n",
       "    <tr>\n",
       "      <th>7</th>\n",
       "      <td>18071016</td>\n",
       "      <td>10</td>\n",
       "      <td>675229714</td>\n",
       "      <td>Strawberry</td>\n",
       "    </tr>\n",
       "    <tr>\n",
       "      <th>8</th>\n",
       "      <td>18071016</td>\n",
       "      <td>5</td>\n",
       "      <td>675229714</td>\n",
       "      <td>Nectarine</td>\n",
       "    </tr>\n",
       "    <tr>\n",
       "      <th>9</th>\n",
       "      <td>18071016</td>\n",
       "      <td>15</td>\n",
       "      <td>675229714</td>\n",
       "      <td>Cheery</td>\n",
       "    </tr>\n",
       "  </tbody>\n",
       "</table>\n",
       "</div>"
      ],
      "text/plain": [
       "   CLIENT_ID  NB_PRODS   ORDER_ID FRUIT_PRODUCT\n",
       "0   18070505         5  671907264         Apple\n",
       "1   18070505        10  671907264        Orange\n",
       "2   18070505         5  671907264          Kiwi\n",
       "3   18070505        10  671907264          Pear\n",
       "4   18070505         5  671907264        Cheery\n",
       "5   18071016         5  675229714    Watermelon\n",
       "6   18071016        10  675229714        Orange\n",
       "7   18071016        10  675229714    Strawberry\n",
       "8   18071016         5  675229714     Nectarine\n",
       "9   18071016        15  675229714        Cheery"
      ]
     },
     "execution_count": 13,
     "metadata": {},
     "output_type": "execute_result"
    }
   ],
   "source": [
    "orders.head(10)"
   ]
  },
  {
   "cell_type": "code",
   "execution_count": 14,
   "id": "d656bd98",
   "metadata": {},
   "outputs": [
    {
     "data": {
      "text/html": [
       "<div>\n",
       "<style scoped>\n",
       "    .dataframe tbody tr th:only-of-type {\n",
       "        vertical-align: middle;\n",
       "    }\n",
       "\n",
       "    .dataframe tbody tr th {\n",
       "        vertical-align: top;\n",
       "    }\n",
       "\n",
       "    .dataframe thead th {\n",
       "        text-align: right;\n",
       "    }\n",
       "</style>\n",
       "<table border=\"1\" class=\"dataframe\">\n",
       "  <thead>\n",
       "    <tr style=\"text-align: right;\">\n",
       "      <th></th>\n",
       "      <th>CLIENT_ID</th>\n",
       "      <th>NB_PRODS</th>\n",
       "      <th>ORDER_ID</th>\n",
       "    </tr>\n",
       "  </thead>\n",
       "  <tbody>\n",
       "    <tr>\n",
       "      <th>count</th>\n",
       "      <td>6.691200e+04</td>\n",
       "      <td>66912.000000</td>\n",
       "      <td>6.691200e+04</td>\n",
       "    </tr>\n",
       "    <tr>\n",
       "      <th>mean</th>\n",
       "      <td>2.613407e+07</td>\n",
       "      <td>4.528112</td>\n",
       "      <td>6.722533e+08</td>\n",
       "    </tr>\n",
       "    <tr>\n",
       "      <th>std</th>\n",
       "      <td>8.473596e+06</td>\n",
       "      <td>5.788227</td>\n",
       "      <td>3.205826e+06</td>\n",
       "    </tr>\n",
       "    <tr>\n",
       "      <th>min</th>\n",
       "      <td>1.807050e+07</td>\n",
       "      <td>-80.000000</td>\n",
       "      <td>6.638335e+08</td>\n",
       "    </tr>\n",
       "    <tr>\n",
       "      <th>25%</th>\n",
       "      <td>2.017427e+07</td>\n",
       "      <td>1.000000</td>\n",
       "      <td>6.694803e+08</td>\n",
       "    </tr>\n",
       "    <tr>\n",
       "      <th>50%</th>\n",
       "      <td>2.438055e+07</td>\n",
       "      <td>3.000000</td>\n",
       "      <td>6.719971e+08</td>\n",
       "    </tr>\n",
       "    <tr>\n",
       "      <th>75%</th>\n",
       "      <td>2.538708e+07</td>\n",
       "      <td>5.000000</td>\n",
       "      <td>6.750893e+08</td>\n",
       "    </tr>\n",
       "    <tr>\n",
       "      <th>max</th>\n",
       "      <td>4.836586e+07</td>\n",
       "      <td>198.000000</td>\n",
       "      <td>6.832132e+08</td>\n",
       "    </tr>\n",
       "  </tbody>\n",
       "</table>\n",
       "</div>"
      ],
      "text/plain": [
       "          CLIENT_ID      NB_PRODS      ORDER_ID\n",
       "count  6.691200e+04  66912.000000  6.691200e+04\n",
       "mean   2.613407e+07      4.528112  6.722533e+08\n",
       "std    8.473596e+06      5.788227  3.205826e+06\n",
       "min    1.807050e+07    -80.000000  6.638335e+08\n",
       "25%    2.017427e+07      1.000000  6.694803e+08\n",
       "50%    2.438055e+07      3.000000  6.719971e+08\n",
       "75%    2.538708e+07      5.000000  6.750893e+08\n",
       "max    4.836586e+07    198.000000  6.832132e+08"
      ]
     },
     "execution_count": 14,
     "metadata": {},
     "output_type": "execute_result"
    }
   ],
   "source": [
    "orders.describe()"
   ]
  },
  {
   "cell_type": "code",
   "execution_count": 15,
   "id": "0746011d",
   "metadata": {},
   "outputs": [
    {
     "name": "stdout",
     "output_type": "stream",
     "text": [
      "<class 'pandas.core.frame.DataFrame'>\n",
      "RangeIndex: 66912 entries, 0 to 66911\n",
      "Data columns (total 4 columns):\n",
      " #   Column         Non-Null Count  Dtype \n",
      "---  ------         --------------  ----- \n",
      " 0   CLIENT_ID      66912 non-null  int64 \n",
      " 1   NB_PRODS       66912 non-null  int64 \n",
      " 2   ORDER_ID       66912 non-null  int64 \n",
      " 3   FRUIT_PRODUCT  66912 non-null  object\n",
      "dtypes: int64(3), object(1)\n",
      "memory usage: 2.0+ MB\n"
     ]
    }
   ],
   "source": [
    "orders.info()"
   ]
  },
  {
   "cell_type": "code",
   "execution_count": 16,
   "id": "bb02a3a5",
   "metadata": {},
   "outputs": [
    {
     "data": {
      "text/plain": [
       "Kiwi           6431\n",
       "Orange         5997\n",
       "Lemon          5664\n",
       "Cheery         4071\n",
       "Nuwe Fruit     3688\n",
       "Pear           3682\n",
       "Nectarine      3520\n",
       "Apple          3439\n",
       "Banana         3408\n",
       "Grape          3126\n",
       "Coconut        2429\n",
       "Apricot        2277\n",
       "Devil Fruit    2173\n",
       "Papaya         1944\n",
       "Mango          1839\n",
       "Plum           1788\n",
       "Blueberry      1696\n",
       "Lime           1656\n",
       "Strawberry     1642\n",
       "Pomegranate    1623\n",
       "Watermelon     1411\n",
       "Melon          1345\n",
       "Pineapple      1273\n",
       "Jackfruit       790\n",
       "Name: FRUIT_PRODUCT, dtype: int64"
      ]
     },
     "execution_count": 16,
     "metadata": {},
     "output_type": "execute_result"
    }
   ],
   "source": [
    "orders[\"FRUIT_PRODUCT\"].value_counts()"
   ]
  },
  {
   "cell_type": "markdown",
   "id": "e322f0da",
   "metadata": {},
   "source": []
  },
  {
   "cell_type": "markdown",
   "id": "33a5f639",
   "metadata": {},
   "source": [
    "## 3. Problem analisis"
   ]
  },
  {
   "cell_type": "markdown",
   "id": "4160bd7c",
   "metadata": {},
   "source": [
    "### Promotion evaluation"
   ]
  },
  {
   "cell_type": "code",
   "execution_count": 17,
   "id": "b1e5803d",
   "metadata": {},
   "outputs": [
    {
     "data": {
      "text/plain": [
       "<AxesSubplot:xlabel='CLIENT_SEGMENT', ylabel='AVG_CONSO'>"
      ]
     },
     "execution_count": 17,
     "metadata": {},
     "output_type": "execute_result"
    },
    {
     "data": {
      "image/png": "[encoded data removed]",
      "text/plain": [
       "<Figure size 864x360 with 1 Axes>"
      ]
     },
     "metadata": {},
     "output_type": "display_data"
    }
   ],
   "source": [
    "sns.barplot(data=clients, hue=\"RECEIVED_COMMUNICATION\", x=\"CLIENT_SEGMENT\", y='AVG_CONSO')"
   ]
  },
  {
   "cell_type": "code",
   "execution_count": 18,
   "id": "372a0b4d",
   "metadata": {},
   "outputs": [
    {
     "data": {
      "text/plain": [
       "<AxesSubplot:xlabel='CLIENT_SEGMENT', ylabel='AVG_BASKET_SIZE'>"
      ]
     },
     "execution_count": 18,
     "metadata": {},
     "output_type": "execute_result"
    },
    {
     "data": {
      "image/png": "[encoded data removed]",
      "text/plain": [
       "<Figure size 864x360 with 1 Axes>"
      ]
     },
     "metadata": {},
     "output_type": "display_data"
    }
   ],
   "source": [
    "sns.barplot(data=clients, hue=\"RECEIVED_COMMUNICATION\", x=\"CLIENT_SEGMENT\", y='AVG_BASKET_SIZE')"
   ]
  },
  {
   "cell_type": "markdown",
   "id": "d7fd57d2",
   "metadata": {},
   "source": [
    "We see an overall improvement on the sells with the promotion, however, client segment 4 and 5 are the ones with less improvement and also, the ones that buy less."
   ]
  },
  {
   "cell_type": "markdown",
   "id": "0747b6fd",
   "metadata": {},
   "source": [
    "### CLIENTS ACTIVITIES"
   ]
  },
  {
   "cell_type": "code",
   "execution_count": 19,
   "id": "cb178e23",
   "metadata": {},
   "outputs": [
    {
     "data": {
      "text/plain": [
       "<AxesSubplot:xlabel='count', ylabel='FRUIT_PRODUCT'>"
      ]
     },
     "execution_count": 19,
     "metadata": {},
     "output_type": "execute_result"
    },
    {
     "data": {
      "image/png": "[encoded data removed]",
      "text/plain": [
       "<Figure size 864x360 with 1 Axes>"
      ]
     },
     "metadata": {},
     "output_type": "display_data"
    }
   ],
   "source": [
    "sns.countplot(y=\"FRUIT_PRODUCT\", data=orders, color=\"c\")"
   ]
  },
  {
   "cell_type": "code",
   "execution_count": 20,
   "id": "ac23f66b",
   "metadata": {},
   "outputs": [],
   "source": [
    "fruits = pd.pivot_table(orders.drop(columns='ORDER_ID'), index=['CLIENT_ID'], columns=['FRUIT_PRODUCT'])\n",
    "clients_merged = fruits['NB_PRODS'].merge(clients, on='CLIENT_ID', how='right')"
   ]
  },
  {
   "cell_type": "code",
   "execution_count": 21,
   "id": "ee0abdce",
   "metadata": {
    "scrolled": true
   },
   "outputs": [
    {
     "data": {
      "text/html": [
       "<div>\n",
       "<style scoped>\n",
       "    .dataframe tbody tr th:only-of-type {\n",
       "        vertical-align: middle;\n",
       "    }\n",
       "\n",
       "    .dataframe tbody tr th {\n",
       "        vertical-align: top;\n",
       "    }\n",
       "\n",
       "    .dataframe thead th {\n",
       "        text-align: right;\n",
       "    }\n",
       "</style>\n",
       "<table border=\"1\" class=\"dataframe\">\n",
       "  <thead>\n",
       "    <tr style=\"text-align: right;\">\n",
       "      <th></th>\n",
       "      <th>AVG_BASKET_SIZE</th>\n",
       "      <th>AVG_CONSO</th>\n",
       "      <th>Apple</th>\n",
       "      <th>Apricot</th>\n",
       "      <th>Banana</th>\n",
       "      <th>Blueberry</th>\n",
       "      <th>CLIENT_ID</th>\n",
       "      <th>Cheery</th>\n",
       "      <th>Coconut</th>\n",
       "      <th>Devil Fruit</th>\n",
       "      <th>...</th>\n",
       "      <th>Nuwe Fruit</th>\n",
       "      <th>Orange</th>\n",
       "      <th>Papaya</th>\n",
       "      <th>Pear</th>\n",
       "      <th>Pineapple</th>\n",
       "      <th>Plum</th>\n",
       "      <th>Pomegranate</th>\n",
       "      <th>RECEIVED_COMMUNICATION</th>\n",
       "      <th>Strawberry</th>\n",
       "      <th>Watermelon</th>\n",
       "    </tr>\n",
       "    <tr>\n",
       "      <th>CLIENT_SEGMENT</th>\n",
       "      <th></th>\n",
       "      <th></th>\n",
       "      <th></th>\n",
       "      <th></th>\n",
       "      <th></th>\n",
       "      <th></th>\n",
       "      <th></th>\n",
       "      <th></th>\n",
       "      <th></th>\n",
       "      <th></th>\n",
       "      <th></th>\n",
       "      <th></th>\n",
       "      <th></th>\n",
       "      <th></th>\n",
       "      <th></th>\n",
       "      <th></th>\n",
       "      <th></th>\n",
       "      <th></th>\n",
       "      <th></th>\n",
       "      <th></th>\n",
       "      <th></th>\n",
       "    </tr>\n",
       "  </thead>\n",
       "  <tbody>\n",
       "    <tr>\n",
       "      <th>1</th>\n",
       "      <td>190.336475</td>\n",
       "      <td>132.278692</td>\n",
       "      <td>1.891846</td>\n",
       "      <td>4.773304</td>\n",
       "      <td>5.397556</td>\n",
       "      <td>2.764665</td>\n",
       "      <td>2.523566e+07</td>\n",
       "      <td>6.558648</td>\n",
       "      <td>5.188102</td>\n",
       "      <td>3.139037</td>\n",
       "      <td>...</td>\n",
       "      <td>5.617448</td>\n",
       "      <td>6.300329</td>\n",
       "      <td>4.520759</td>\n",
       "      <td>6.557143</td>\n",
       "      <td>3.233235</td>\n",
       "      <td>2.259784</td>\n",
       "      <td>3.264521</td>\n",
       "      <td>0.581399</td>\n",
       "      <td>3.908333</td>\n",
       "      <td>3.210398</td>\n",
       "    </tr>\n",
       "    <tr>\n",
       "      <th>2</th>\n",
       "      <td>298.595682</td>\n",
       "      <td>87.360251</td>\n",
       "      <td>2.328283</td>\n",
       "      <td>5.672553</td>\n",
       "      <td>6.830543</td>\n",
       "      <td>3.420949</td>\n",
       "      <td>2.495081e+07</td>\n",
       "      <td>8.788846</td>\n",
       "      <td>6.595895</td>\n",
       "      <td>3.558239</td>\n",
       "      <td>...</td>\n",
       "      <td>7.682997</td>\n",
       "      <td>7.694004</td>\n",
       "      <td>5.501299</td>\n",
       "      <td>7.913964</td>\n",
       "      <td>3.890374</td>\n",
       "      <td>2.881188</td>\n",
       "      <td>4.249723</td>\n",
       "      <td>0.562130</td>\n",
       "      <td>5.190994</td>\n",
       "      <td>3.985023</td>\n",
       "    </tr>\n",
       "    <tr>\n",
       "      <th>3</th>\n",
       "      <td>163.602114</td>\n",
       "      <td>43.331350</td>\n",
       "      <td>1.756763</td>\n",
       "      <td>3.406156</td>\n",
       "      <td>3.808435</td>\n",
       "      <td>2.226158</td>\n",
       "      <td>2.674234e+07</td>\n",
       "      <td>4.397371</td>\n",
       "      <td>3.515443</td>\n",
       "      <td>2.282201</td>\n",
       "      <td>...</td>\n",
       "      <td>4.137686</td>\n",
       "      <td>4.190794</td>\n",
       "      <td>3.563406</td>\n",
       "      <td>4.169656</td>\n",
       "      <td>2.721814</td>\n",
       "      <td>1.782982</td>\n",
       "      <td>2.537681</td>\n",
       "      <td>0.544626</td>\n",
       "      <td>3.078363</td>\n",
       "      <td>2.674847</td>\n",
       "    </tr>\n",
       "    <tr>\n",
       "      <th>4</th>\n",
       "      <td>105.475273</td>\n",
       "      <td>20.868018</td>\n",
       "      <td>1.533896</td>\n",
       "      <td>2.529551</td>\n",
       "      <td>2.677434</td>\n",
       "      <td>1.820466</td>\n",
       "      <td>2.881232e+07</td>\n",
       "      <td>3.179793</td>\n",
       "      <td>2.431818</td>\n",
       "      <td>1.850794</td>\n",
       "      <td>...</td>\n",
       "      <td>2.907104</td>\n",
       "      <td>2.878514</td>\n",
       "      <td>2.288136</td>\n",
       "      <td>3.080662</td>\n",
       "      <td>2.275401</td>\n",
       "      <td>1.526903</td>\n",
       "      <td>1.871855</td>\n",
       "      <td>0.446953</td>\n",
       "      <td>2.577957</td>\n",
       "      <td>2.138622</td>\n",
       "    </tr>\n",
       "    <tr>\n",
       "      <th>5</th>\n",
       "      <td>56.872805</td>\n",
       "      <td>6.600367</td>\n",
       "      <td>1.418491</td>\n",
       "      <td>2.113636</td>\n",
       "      <td>1.952055</td>\n",
       "      <td>1.561404</td>\n",
       "      <td>3.096971e+07</td>\n",
       "      <td>2.196296</td>\n",
       "      <td>1.700000</td>\n",
       "      <td>1.682927</td>\n",
       "      <td>...</td>\n",
       "      <td>2.016064</td>\n",
       "      <td>2.007874</td>\n",
       "      <td>2.351852</td>\n",
       "      <td>2.177419</td>\n",
       "      <td>1.883333</td>\n",
       "      <td>1.443038</td>\n",
       "      <td>1.703704</td>\n",
       "      <td>0.248469</td>\n",
       "      <td>1.692308</td>\n",
       "      <td>1.591549</td>\n",
       "    </tr>\n",
       "  </tbody>\n",
       "</table>\n",
       "<p>5 rows × 28 columns</p>\n",
       "</div>"
      ],
      "text/plain": [
       "                AVG_BASKET_SIZE   AVG_CONSO     Apple   Apricot    Banana  \\\n",
       "CLIENT_SEGMENT                                                              \n",
       "1                    190.336475  132.278692  1.891846  4.773304  5.397556   \n",
       "2                    298.595682   87.360251  2.328283  5.672553  6.830543   \n",
       "3                    163.602114   43.331350  1.756763  3.406156  3.808435   \n",
       "4                    105.475273   20.868018  1.533896  2.529551  2.677434   \n",
       "5                     56.872805    6.600367  1.418491  2.113636  1.952055   \n",
       "\n",
       "                Blueberry     CLIENT_ID    Cheery   Coconut  Devil Fruit  ...  \\\n",
       "CLIENT_SEGMENT                                                            ...   \n",
       "1                2.764665  2.523566e+07  6.558648  5.188102     3.139037  ...   \n",
       "2                3.420949  2.495081e+07  8.788846  6.595895     3.558239  ...   \n",
       "3                2.226158  2.674234e+07  4.397371  3.515443     2.282201  ...   \n",
       "4                1.820466  2.881232e+07  3.179793  2.431818     1.850794  ...   \n",
       "5                1.561404  3.096971e+07  2.196296  1.700000     1.682927  ...   \n",
       "\n",
       "                Nuwe Fruit    Orange    Papaya      Pear  Pineapple      Plum  \\\n",
       "CLIENT_SEGMENT                                                                  \n",
       "1                 5.617448  6.300329  4.520759  6.557143   3.233235  2.259784   \n",
       "2                 7.682997  7.694004  5.501299  7.913964   3.890374  2.881188   \n",
       "3                 4.137686  4.190794  3.563406  4.169656   2.721814  1.782982   \n",
       "4                 2.907104  2.878514  2.288136  3.080662   2.275401  1.526903   \n",
       "5                 2.016064  2.007874  2.351852  2.177419   1.883333  1.443038   \n",
       "\n",
       "                Pomegranate  RECEIVED_COMMUNICATION  Strawberry  Watermelon  \n",
       "CLIENT_SEGMENT                                                               \n",
       "1                  3.264521                0.581399    3.908333    3.210398  \n",
       "2                  4.249723                0.562130    5.190994    3.985023  \n",
       "3                  2.537681                0.544626    3.078363    2.674847  \n",
       "4                  1.871855                0.446953    2.577957    2.138622  \n",
       "5                  1.703704                0.248469    1.692308    1.591549  \n",
       "\n",
       "[5 rows x 28 columns]"
      ]
     },
     "execution_count": 21,
     "metadata": {},
     "output_type": "execute_result"
    }
   ],
   "source": [
    "fruits_by_segment = pd.pivot_table(clients_merged, index=['CLIENT_SEGMENT'])\n",
    "fruits_by_segment.head()"
   ]
  },
  {
   "cell_type": "code",
   "execution_count": 22,
   "id": "831ddf88",
   "metadata": {},
   "outputs": [],
   "source": [
    "fruits_by_segment = fruits_by_segment.drop(['AVG_BASKET_SIZE', 'AVG_CONSO','CLIENT_ID', 'RECEIVED_COMMUNICATION'], axis=1)"
   ]
  },
  {
   "cell_type": "code",
   "execution_count": 23,
   "id": "e2274ab6",
   "metadata": {},
   "outputs": [],
   "source": [
    "def plot_segment(i):\n",
    "    \n",
    "    fig = plt.figure(figsize = (10, 5))\n",
    "\n",
    "    # creating the bar plot\n",
    "    plt.bar([c[:3] for c in (list(fruits_by_segment.columns))], fruits_by_segment.iloc[i-1].values,\n",
    "            width = 0.4)\n",
    "    plt.title('Segment ' + str(i))\n",
    "    plt.show()"
   ]
  },
  {
   "cell_type": "markdown",
   "id": "aaf002c8",
   "metadata": {},
   "source": [
    "In the next plots we can see what fruits are the most popular amongst every client segment. "
   ]
  },
  {
   "cell_type": "code",
   "execution_count": 24,
   "id": "94d2d90d",
   "metadata": {},
   "outputs": [
    {
     "data": {
      "image/png": "[encoded data removed]",
      "text/plain": [
       "<Figure size 720x360 with 1 Axes>"
      ]
     },
     "metadata": {},
     "output_type": "display_data"
    },
    {
     "data": {
      "image/png": "[encoded data removed]",
      "text/plain": [
       "<Figure size 720x360 with 1 Axes>"
      ]
     },
     "metadata": {},
     "output_type": "display_data"
    },
    {
     "data": {
      "image/png": "[encoded data removed]",
      "text/plain": [
       "<Figure size 720x360 with 1 Axes>"
      ]
     },
     "metadata": {},
     "output_type": "display_data"
    },
    {
     "data": {
      "image/png": "[encoded data removed]",
      "text/plain": [
       "<Figure size 720x360 with 1 Axes>"
      ]
     },
     "metadata": {},
     "output_type": "display_data"
    },
    {
     "data": {
      "image/png": "[encoded data removed]",
      "text/plain": [
       "<Figure size 720x360 with 1 Axes>"
      ]
     },
     "metadata": {},
     "output_type": "display_data"
    },
    {
     "data": {
      "image/png": "[encoded data removed]",
      "text/plain": [
       "<Figure size 720x360 with 1 Axes>"
      ]
     },
     "metadata": {},
     "output_type": "display_data"
    }
   ],
   "source": [
    "plot_segment(1)\n",
    "plot_segment(2)\n",
    "plot_segment(3)\n",
    "plot_segment(4)\n",
    "plot_segment(5)\n",
    "plot_segment(6)"
   ]
  },
  {
   "cell_type": "code",
   "execution_count": null,
   "id": "8d02c249",
   "metadata": {},
   "outputs": [],
   "source": []
  },
  {
   "cell_type": "markdown",
   "id": "da8abc0e",
   "metadata": {},
   "source": [
    "## 4. Preparing the data"
   ]
  },
  {
   "cell_type": "code",
   "execution_count": 25,
   "id": "aaccb970",
   "metadata": {},
   "outputs": [],
   "source": [
    "clients = pd.read_csv('mwc22-client_table.csv', decimal=',')\n",
    "clients.columns = [c.replace(' ', '_') for c in clients.columns]"
   ]
  },
  {
   "cell_type": "code",
   "execution_count": 26,
   "id": "beb0eb01",
   "metadata": {},
   "outputs": [
    {
     "data": {
      "text/plain": [
       "(35884, 5)"
      ]
     },
     "execution_count": 26,
     "metadata": {},
     "output_type": "execute_result"
    }
   ],
   "source": [
    "clients['CLIENT_SEGMENT'] = clients['CLIENT_SEGMENT'] - 1\n",
    "clients.shape"
   ]
  },
  {
   "cell_type": "markdown",
   "id": "196f64d2",
   "metadata": {},
   "source": [
    "Let's split the data into 3 parts. The train set, the validation set which we will use to evaluate the models and the test set. It is recommended to evaluate the models on the validation set to make sure that we are not just overfitting the test when tweaking the model's parameters. Once we are happy with our models, we try them on the test set."
   ]
  },
  {
   "cell_type": "code",
   "execution_count": 27,
   "id": "fa06cad4",
   "metadata": {},
   "outputs": [],
   "source": [
    "from sklearn.model_selection import train_test_split\n",
    "train_set, test_set = train_test_split(clients, test_size=0.2)\n",
    "X_train, y_train = train_set.loc[:, train_set.columns!='CLIENT_SEGMENT'], train_set[['CLIENT_SEGMENT']]\n",
    "X_test, y_test = test_set.loc[:, test_set.columns!='CLIENT_SEGMENT'], test_set[['CLIENT_SEGMENT']]\n",
    "\n",
    "X_train, X_val, y_train, y_val = train_test_split(X_train, y_train, test_size=0.2)"
   ]
  },
  {
   "cell_type": "markdown",
   "id": "058dba8a",
   "metadata": {},
   "source": [
    "Let's do some feature engineering..."
   ]
  },
  {
   "cell_type": "code",
   "execution_count": 28,
   "id": "e0b47758",
   "metadata": {},
   "outputs": [],
   "source": [
    "from sklearn.base import BaseEstimator, TransformerMixin\n",
    "\n",
    "avg_conso, avg_basket_size = \"AVG_CONSO\", \"AVG_BASKET_SIZE\"\n",
    "\n",
    "class CombinedAttributesAdder(BaseEstimator, TransformerMixin):\n",
    "        \n",
    "    def fit(self, X, y=None):\n",
    "        return self  # nothing else to do\n",
    "    \n",
    "    def transform(self, X):\n",
    "        average_units = X[avg_basket_size] / (1.0 + X[avg_conso])# add 1 to avoid 0 division\n",
    "        return np.c_[X, average_units]\n",
    "\n"
   ]
  },
  {
   "cell_type": "markdown",
   "id": "7c83ea83",
   "metadata": {},
   "source": [
    "Let's make a pipeline so we can transform the data easily."
   ]
  },
  {
   "cell_type": "code",
   "execution_count": 29,
   "id": "fe8c7d17",
   "metadata": {},
   "outputs": [],
   "source": [
    "from sklearn.preprocessing import RobustScaler\n",
    "from sklearn.preprocessing import StandardScaler\n",
    "from sklearn.preprocessing import FunctionTransformer\n",
    "from sklearn.preprocessing import PowerTransformer\n",
    "from sklearn.compose import ColumnTransformer\n",
    "from sklearn.preprocessing import OneHotEncoder\n",
    "from sklearn.preprocessing import PolynomialFeatures\n",
    "\n",
    "from sklearn.pipeline import Pipeline\n",
    "log_attribs = [\"AVG_CONSO\", \"AVG_BASKET_SIZE\"]\n",
    "cat_attribs = [\"RECEIVED_COMMUNICATION\"]\n",
    "num_attribs = log_attribs\n",
    "\n",
    "log_pipe = Pipeline([\n",
    "        ('attribs_adder', CombinedAttributesAdder()),\n",
    "        ('log',FunctionTransformer(np.log1p, validate=True)),\n",
    "        ('std_scaler', StandardScaler()),\n",
    "    ])\n",
    "\n",
    "num_pipe = Pipeline([\n",
    "        ('attribs_adder', CombinedAttributesAdder()),\n",
    "        ('log',FunctionTransformer(np.log1p, validate=True)),\n",
    "        ('rob_scaler', RobustScaler()),\n",
    "    ])\n",
    "\n",
    "cat_pipe = Pipeline([\n",
    "        ('one_hot_encoder', OneHotEncoder(handle_unknown='ignore')),\n",
    "    ])\n",
    "\n",
    "full_pipe = ColumnTransformer([\n",
    "        #('log', log_pipe, log_attribs),\n",
    "        ('num', num_pipe, num_attribs),\n",
    "        ('log', log_pipe, log_attribs),\n",
    "        ('cat', cat_pipe, cat_attribs),\n",
    "    ])\n",
    "\n",
    "X_train = full_pipe.fit_transform(X_train)\n",
    "X_val = full_pipe.transform(X_val) # NOTE: We are NOT fitting. Only learn from training set.\n",
    "X_test = full_pipe.transform(X_test) # NOTE: We are NOT fitting. Only learn from training set.\n"
   ]
  },
  {
   "cell_type": "markdown",
   "id": "e0120e1b",
   "metadata": {},
   "source": [
    "## 5. Prediction model\n",
    "\n",
    "Let's start trying some models\n"
   ]
  },
  {
   "cell_type": "code",
   "execution_count": 30,
   "id": "99cd22f0",
   "metadata": {},
   "outputs": [],
   "source": [
    "from sklearn.model_selection import cross_val_score\n",
    "\n",
    "def display_scores(scores):\n",
    "    print(\"Scores:\", scores)\n",
    "    print(\"Mean:\", scores.mean())\n",
    "    print(\"Standard deviation:\", scores.std())"
   ]
  },
  {
   "cell_type": "markdown",
   "id": "2175db85",
   "metadata": {},
   "source": [
    "### Linear regression"
   ]
  },
  {
   "cell_type": "code",
   "execution_count": 31,
   "id": "c125f3ad",
   "metadata": {},
   "outputs": [
    {
     "data": {
      "text/plain": [
       "LogisticRegression(max_iter=1000)"
      ]
     },
     "execution_count": 31,
     "metadata": {},
     "output_type": "execute_result"
    }
   ],
   "source": [
    "from sklearn.linear_model import LogisticRegression\n",
    "from sklearn.metrics import make_scorer\n",
    "lr = LogisticRegression(max_iter=1000)\n",
    "lr.fit(X_train, y_train.values.ravel())"
   ]
  },
  {
   "cell_type": "code",
   "execution_count": 32,
   "id": "efbfd9f1",
   "metadata": {},
   "outputs": [
    {
     "name": "stdout",
     "output_type": "stream",
     "text": [
      "Scores: [0.66532847 0.6077898  0.66658432 0.66792367 0.65296752 0.65934134\n",
      " 0.67717891 0.67748718 0.64533941 0.66191989]\n",
      "Mean: 0.6581860517336051\n",
      "Standard deviation: 0.019227470834874524\n"
     ]
    }
   ],
   "source": [
    "scores = cross_val_score(lr, X_val, y_val.values.ravel(), \n",
    "                         scoring=make_scorer(f1_score, average='macro'), \n",
    "                         cv=10)\n",
    "display_scores(scores)"
   ]
  },
  {
   "cell_type": "markdown",
   "id": "d06680df",
   "metadata": {},
   "source": [
    "### KNN"
   ]
  },
  {
   "cell_type": "code",
   "execution_count": 33,
   "id": "a9dff99c",
   "metadata": {},
   "outputs": [
    {
     "data": {
      "text/plain": [
       "KNeighborsClassifier(n_neighbors=24)"
      ]
     },
     "execution_count": 33,
     "metadata": {},
     "output_type": "execute_result"
    }
   ],
   "source": [
    "from sklearn.neighbors import KNeighborsClassifier\n",
    "knn = KNeighborsClassifier(n_neighbors=24)\n",
    "knn.fit(X_train, y_train.values.ravel())"
   ]
  },
  {
   "cell_type": "code",
   "execution_count": 34,
   "id": "e9342072",
   "metadata": {},
   "outputs": [
    {
     "name": "stdout",
     "output_type": "stream",
     "text": [
      "Scores: [0.70092766 0.69175946 0.66873908 0.68861403 0.70690372 0.68881901\n",
      " 0.69831222 0.70558663 0.70460753 0.6918404 ]\n",
      "Mean: 0.6946109723230962\n",
      "Standard deviation: 0.010861765451082268\n"
     ]
    }
   ],
   "source": [
    "scores = cross_val_score(knn, X_val, y_val.values.ravel(),\n",
    "                         scoring=make_scorer(f1_score, average='macro'), \n",
    "                         cv=10)\n",
    "display_scores(scores)"
   ]
  },
  {
   "cell_type": "markdown",
   "id": "791be35d",
   "metadata": {},
   "source": [
    "### Naive Bayes"
   ]
  },
  {
   "cell_type": "code",
   "execution_count": 35,
   "id": "c0ca5b13",
   "metadata": {},
   "outputs": [
    {
     "data": {
      "text/plain": [
       "GaussianNB()"
      ]
     },
     "execution_count": 35,
     "metadata": {},
     "output_type": "execute_result"
    }
   ],
   "source": [
    "from sklearn.naive_bayes import GaussianNB\n",
    "nb = GaussianNB()\n",
    "nb.fit(X_train, y_train.values.ravel())"
   ]
  },
  {
   "cell_type": "code",
   "execution_count": 36,
   "id": "3266f807",
   "metadata": {},
   "outputs": [
    {
     "name": "stdout",
     "output_type": "stream",
     "text": [
      "Scores: [0.64910124 0.65549983 0.67362846 0.68950645 0.69887764 0.67057178\n",
      " 0.70130365 0.6942226  0.66364683 0.66477922]\n",
      "Mean: 0.6761137681857615\n",
      "Standard deviation: 0.01770710456043242\n"
     ]
    }
   ],
   "source": [
    "scores = cross_val_score(nb, X_val, y_val.values.ravel(),                      \n",
    "                         scoring=make_scorer(f1_score, average='macro'), \n",
    "                         cv=10)\n",
    "display_scores(scores)"
   ]
  },
  {
   "cell_type": "markdown",
   "id": "3cf74b59",
   "metadata": {},
   "source": [
    "### Random Forest"
   ]
  },
  {
   "cell_type": "code",
   "execution_count": 37,
   "id": "dabfdf1c",
   "metadata": {},
   "outputs": [
    {
     "data": {
      "text/plain": [
       "RandomForestClassifier(max_depth=8, max_features=2, n_estimators=220,\n",
       "                       random_state=0)"
      ]
     },
     "execution_count": 37,
     "metadata": {},
     "output_type": "execute_result"
    }
   ],
   "source": [
    "from sklearn.ensemble import RandomForestClassifier\n",
    "clf = RandomForestClassifier(max_depth=8, random_state=0, n_estimators = 220, max_features=2)\n",
    "clf.fit(X_train, y_train.values.ravel())"
   ]
  },
  {
   "cell_type": "code",
   "execution_count": 38,
   "id": "2fff52dc",
   "metadata": {},
   "outputs": [
    {
     "name": "stdout",
     "output_type": "stream",
     "text": [
      "Scores: [0.70858625 0.68112169 0.68449801 0.70213601 0.68635126 0.71376272\n",
      " 0.72600117 0.72844014 0.6931188  0.67330498]\n",
      "Mean: 0.6997321030750118\n",
      "Standard deviation: 0.01815171747804754\n"
     ]
    }
   ],
   "source": [
    "scores = cross_val_score(clf, X_val, y_val.values.ravel(),\n",
    "                        scoring=make_scorer(f1_score, average='macro'), \n",
    "                        cv=10)\n",
    "display_scores(scores)"
   ]
  },
  {
   "cell_type": "markdown",
   "id": "768dacb0",
   "metadata": {},
   "source": [
    "### Decision Tree"
   ]
  },
  {
   "cell_type": "code",
   "execution_count": 39,
   "id": "c4634c1b",
   "metadata": {},
   "outputs": [
    {
     "data": {
      "text/plain": [
       "DecisionTreeClassifier(max_depth=8, random_state=0)"
      ]
     },
     "execution_count": 39,
     "metadata": {},
     "output_type": "execute_result"
    }
   ],
   "source": [
    "from sklearn.tree import DecisionTreeClassifier\n",
    "dtree = DecisionTreeClassifier(max_depth=8, random_state=0)\n",
    "dtree.fit(X_train, y_train.values.ravel())"
   ]
  },
  {
   "cell_type": "code",
   "execution_count": 40,
   "id": "579bc4c2",
   "metadata": {},
   "outputs": [
    {
     "name": "stdout",
     "output_type": "stream",
     "text": [
      "Scores: [0.70461586 0.66572506 0.68308648 0.69077947 0.69134076 0.7238221\n",
      " 0.70229439 0.73892746 0.67880713 0.66615567]\n",
      "Mean: 0.6945554366291926\n",
      "Standard deviation: 0.022424079725929233\n"
     ]
    }
   ],
   "source": [
    "scores = cross_val_score(dtree, X_val, y_val.values.ravel(),                          \n",
    "                         scoring=make_scorer(f1_score, average='macro'), \n",
    "                         cv=10)\n",
    "display_scores(scores)"
   ]
  },
  {
   "cell_type": "markdown",
   "id": "afbf972b",
   "metadata": {},
   "source": [
    "### SVC"
   ]
  },
  {
   "cell_type": "code",
   "execution_count": 41,
   "id": "7db68bbd",
   "metadata": {},
   "outputs": [
    {
     "data": {
      "text/plain": [
       "LinearSVC(dual=False, random_state=0)"
      ]
     },
     "execution_count": 41,
     "metadata": {},
     "output_type": "execute_result"
    }
   ],
   "source": [
    "from sklearn.svm import LinearSVC\n",
    "from sklearn.svm import SVC\n",
    "\n",
    "svm = LinearSVC(random_state=0, dual=False)\n",
    "svm.fit(X_train, y_train.values.ravel())"
   ]
  },
  {
   "cell_type": "code",
   "execution_count": 42,
   "id": "7c0c2e45",
   "metadata": {},
   "outputs": [
    {
     "name": "stdout",
     "output_type": "stream",
     "text": [
      "Scores: [0.58021974 0.52837758 0.55778188 0.57406742 0.58280968 0.56445941\n",
      " 0.58432895 0.56990325 0.55116136 0.57602699]\n",
      "Mean: 0.5669136257721117\n",
      "Standard deviation: 0.01642793766693403\n"
     ]
    }
   ],
   "source": [
    "scores = cross_val_score(svm, X_val, y_val.values.ravel(),                          \n",
    "                         scoring=make_scorer(f1_score, average='macro'), \n",
    "                         cv=10)\n",
    "display_scores(scores)"
   ]
  },
  {
   "cell_type": "markdown",
   "id": "79a1a758",
   "metadata": {},
   "source": [
    "### SGD\n",
    "\n",
    "SGD classifiers usually performs well with a lot of data, which is not our case. However, let's give it a try."
   ]
  },
  {
   "cell_type": "code",
   "execution_count": 43,
   "id": "30e4b9be",
   "metadata": {},
   "outputs": [
    {
     "data": {
      "text/plain": [
       "SGDClassifier(loss='modified_huber', random_state=0)"
      ]
     },
     "execution_count": 43,
     "metadata": {},
     "output_type": "execute_result"
    }
   ],
   "source": [
    "from sklearn.linear_model import SGDClassifier\n",
    "sgd = SGDClassifier(loss='modified_huber', random_state=0)\n",
    "sgd.fit(X_train, y_train.values.ravel())"
   ]
  },
  {
   "cell_type": "code",
   "execution_count": 44,
   "id": "efb26122",
   "metadata": {},
   "outputs": [
    {
     "name": "stdout",
     "output_type": "stream",
     "text": [
      "[3 0 1 ... 1 3 0]\n",
      "Scores: [0.48377811 0.45246348 0.49866199 0.43537593 0.44317405 0.51312651\n",
      " 0.52482288 0.42889777 0.42496801 0.46303691]\n",
      "Mean: 0.46683056215870744\n",
      "Standard deviation: 0.03430463855766112\n"
     ]
    }
   ],
   "source": [
    "y_pred = sgd.predict(X_test)\n",
    "print(y_pred)\n",
    "scores = cross_val_score(sgd, X_val, y_val.values.ravel(), \n",
    "                         scoring=make_scorer(f1_score, average='macro'), \n",
    "                         cv=10)\n",
    "display_scores(scores)"
   ]
  },
  {
   "cell_type": "markdown",
   "id": "2b0c9595",
   "metadata": {},
   "source": [
    "## 6. Autotunning\n",
    "\n",
    "We have a some models that look very promising. RandomForest and KNN did very well on the validation set. Let's find the best parameters for these models so we get the best performance."
   ]
  },
  {
   "cell_type": "markdown",
   "id": "ff196467",
   "metadata": {},
   "source": [
    "### Random Forest"
   ]
  },
  {
   "cell_type": "code",
   "execution_count": 45,
   "id": "46ed9c31",
   "metadata": {},
   "outputs": [],
   "source": [
    "from sklearn.model_selection import GridSearchCV\n",
    "\n",
    "param_grid = [\n",
    "    {'n_estimators': [220, 250, 300], 'max_features': [1,3,5], 'max_depth':[7,8,9,10]},\n",
    "    {'bootstrap':[False], 'n_estimators': [220, 250, 300], 'max_features': [1,3,5], 'max_depth':[7,8,9,10]},\n",
    "  ]"
   ]
  },
  {
   "cell_type": "code",
   "execution_count": 46,
   "id": "dbc48dea",
   "metadata": {},
   "outputs": [
    {
     "data": {
      "text/plain": [
       "GridSearchCV(cv=5, estimator=RandomForestClassifier(random_state=0), n_jobs=-1,\n",
       "             param_grid=[{'max_depth': [7, 8, 9, 10], 'max_features': [1, 3, 5],\n",
       "                          'n_estimators': [220, 250, 300]},\n",
       "                         {'bootstrap': [False], 'max_depth': [7, 8, 9, 10],\n",
       "                          'max_features': [1, 3, 5],\n",
       "                          'n_estimators': [220, 250, 300]}],\n",
       "             return_train_score=True,\n",
       "             scoring=make_scorer(f1_score, average=macro))"
      ]
     },
     "execution_count": 46,
     "metadata": {},
     "output_type": "execute_result"
    }
   ],
   "source": [
    "forest_cl = RandomForestClassifier(random_state=0)\n",
    "grid_search = GridSearchCV(forest_cl, param_grid, cv=5,\n",
    "                           scoring=make_scorer(f1_score, average='macro'),\n",
    "                           return_train_score=True,\n",
    "                           n_jobs=-1)\n",
    "\n",
    "grid_search.fit(X_train, y_train.values.ravel())"
   ]
  },
  {
   "cell_type": "code",
   "execution_count": 47,
   "id": "41e7ffef",
   "metadata": {},
   "outputs": [
    {
     "name": "stdout",
     "output_type": "stream",
     "text": [
      "the best parameters are:\n",
      "{'bootstrap': False, 'max_depth': 9, 'max_features': 5, 'n_estimators': 220}\n",
      "Best Score 0.6933369654336333\n"
     ]
    }
   ],
   "source": [
    "print(\"the best parameters are:\")\n",
    "print(grid_search.best_params_)\n",
    "print(\"Best Score\", grid_search.best_score_)"
   ]
  },
  {
   "cell_type": "code",
   "execution_count": 48,
   "id": "92e22dd8",
   "metadata": {},
   "outputs": [
    {
     "data": {
      "text/html": [
       "<div>\n",
       "<style scoped>\n",
       "    .dataframe tbody tr th:only-of-type {\n",
       "        vertical-align: middle;\n",
       "    }\n",
       "\n",
       "    .dataframe tbody tr th {\n",
       "        vertical-align: top;\n",
       "    }\n",
       "\n",
       "    .dataframe thead th {\n",
       "        text-align: right;\n",
       "    }\n",
       "</style>\n",
       "<table border=\"1\" class=\"dataframe\">\n",
       "  <thead>\n",
       "    <tr style=\"text-align: right;\">\n",
       "      <th></th>\n",
       "      <th>mean_fit_time</th>\n",
       "      <th>std_fit_time</th>\n",
       "      <th>mean_score_time</th>\n",
       "      <th>std_score_time</th>\n",
       "      <th>param_max_depth</th>\n",
       "      <th>param_max_features</th>\n",
       "      <th>param_n_estimators</th>\n",
       "      <th>param_bootstrap</th>\n",
       "      <th>params</th>\n",
       "      <th>split0_test_score</th>\n",
       "      <th>...</th>\n",
       "      <th>mean_test_score</th>\n",
       "      <th>std_test_score</th>\n",
       "      <th>rank_test_score</th>\n",
       "      <th>split0_train_score</th>\n",
       "      <th>split1_train_score</th>\n",
       "      <th>split2_train_score</th>\n",
       "      <th>split3_train_score</th>\n",
       "      <th>split4_train_score</th>\n",
       "      <th>mean_train_score</th>\n",
       "      <th>std_train_score</th>\n",
       "    </tr>\n",
       "  </thead>\n",
       "  <tbody>\n",
       "    <tr>\n",
       "      <th>0</th>\n",
       "      <td>2.388978</td>\n",
       "      <td>0.013773</td>\n",
       "      <td>0.149735</td>\n",
       "      <td>0.001857</td>\n",
       "      <td>7</td>\n",
       "      <td>1</td>\n",
       "      <td>220</td>\n",
       "      <td>NaN</td>\n",
       "      <td>{'max_depth': 7, 'max_features': 1, 'n_estimat...</td>\n",
       "      <td>0.681821</td>\n",
       "      <td>...</td>\n",
       "      <td>0.687160</td>\n",
       "      <td>0.003437</td>\n",
       "      <td>65</td>\n",
       "      <td>0.696753</td>\n",
       "      <td>0.693454</td>\n",
       "      <td>0.698883</td>\n",
       "      <td>0.698399</td>\n",
       "      <td>0.695705</td>\n",
       "      <td>0.696639</td>\n",
       "      <td>0.001958</td>\n",
       "    </tr>\n",
       "    <tr>\n",
       "      <th>1</th>\n",
       "      <td>2.724885</td>\n",
       "      <td>0.019904</td>\n",
       "      <td>0.181766</td>\n",
       "      <td>0.003075</td>\n",
       "      <td>7</td>\n",
       "      <td>1</td>\n",
       "      <td>250</td>\n",
       "      <td>NaN</td>\n",
       "      <td>{'max_depth': 7, 'max_features': 1, 'n_estimat...</td>\n",
       "      <td>0.681832</td>\n",
       "      <td>...</td>\n",
       "      <td>0.687160</td>\n",
       "      <td>0.003527</td>\n",
       "      <td>64</td>\n",
       "      <td>0.696620</td>\n",
       "      <td>0.693419</td>\n",
       "      <td>0.698801</td>\n",
       "      <td>0.698906</td>\n",
       "      <td>0.695838</td>\n",
       "      <td>0.696717</td>\n",
       "      <td>0.002040</td>\n",
       "    </tr>\n",
       "    <tr>\n",
       "      <th>2</th>\n",
       "      <td>3.277385</td>\n",
       "      <td>0.058651</td>\n",
       "      <td>0.211393</td>\n",
       "      <td>0.020477</td>\n",
       "      <td>7</td>\n",
       "      <td>1</td>\n",
       "      <td>300</td>\n",
       "      <td>NaN</td>\n",
       "      <td>{'max_depth': 7, 'max_features': 1, 'n_estimat...</td>\n",
       "      <td>0.681453</td>\n",
       "      <td>...</td>\n",
       "      <td>0.686593</td>\n",
       "      <td>0.003482</td>\n",
       "      <td>69</td>\n",
       "      <td>0.696266</td>\n",
       "      <td>0.693460</td>\n",
       "      <td>0.699236</td>\n",
       "      <td>0.698812</td>\n",
       "      <td>0.695666</td>\n",
       "      <td>0.696688</td>\n",
       "      <td>0.002128</td>\n",
       "    </tr>\n",
       "    <tr>\n",
       "      <th>3</th>\n",
       "      <td>3.901553</td>\n",
       "      <td>0.072472</td>\n",
       "      <td>0.148535</td>\n",
       "      <td>0.009402</td>\n",
       "      <td>7</td>\n",
       "      <td>3</td>\n",
       "      <td>220</td>\n",
       "      <td>NaN</td>\n",
       "      <td>{'max_depth': 7, 'max_features': 3, 'n_estimat...</td>\n",
       "      <td>0.681569</td>\n",
       "      <td>...</td>\n",
       "      <td>0.685238</td>\n",
       "      <td>0.004014</td>\n",
       "      <td>70</td>\n",
       "      <td>0.699668</td>\n",
       "      <td>0.696050</td>\n",
       "      <td>0.700237</td>\n",
       "      <td>0.700631</td>\n",
       "      <td>0.697697</td>\n",
       "      <td>0.698857</td>\n",
       "      <td>0.001728</td>\n",
       "    </tr>\n",
       "    <tr>\n",
       "      <th>4</th>\n",
       "      <td>4.454258</td>\n",
       "      <td>0.061078</td>\n",
       "      <td>0.178363</td>\n",
       "      <td>0.016848</td>\n",
       "      <td>7</td>\n",
       "      <td>3</td>\n",
       "      <td>250</td>\n",
       "      <td>NaN</td>\n",
       "      <td>{'max_depth': 7, 'max_features': 3, 'n_estimat...</td>\n",
       "      <td>0.681777</td>\n",
       "      <td>...</td>\n",
       "      <td>0.685225</td>\n",
       "      <td>0.003800</td>\n",
       "      <td>71</td>\n",
       "      <td>0.699756</td>\n",
       "      <td>0.695605</td>\n",
       "      <td>0.699971</td>\n",
       "      <td>0.700357</td>\n",
       "      <td>0.697488</td>\n",
       "      <td>0.698635</td>\n",
       "      <td>0.001817</td>\n",
       "    </tr>\n",
       "  </tbody>\n",
       "</table>\n",
       "<p>5 rows × 24 columns</p>\n",
       "</div>"
      ],
      "text/plain": [
       "   mean_fit_time  std_fit_time  mean_score_time  std_score_time  \\\n",
       "0       2.388978      0.013773         0.149735        0.001857   \n",
       "1       2.724885      0.019904         0.181766        0.003075   \n",
       "2       3.277385      0.058651         0.211393        0.020477   \n",
       "3       3.901553      0.072472         0.148535        0.009402   \n",
       "4       4.454258      0.061078         0.178363        0.016848   \n",
       "\n",
       "  param_max_depth param_max_features param_n_estimators param_bootstrap  \\\n",
       "0               7                  1                220             NaN   \n",
       "1               7                  1                250             NaN   \n",
       "2               7                  1                300             NaN   \n",
       "3               7                  3                220             NaN   \n",
       "4               7                  3                250             NaN   \n",
       "\n",
       "                                              params  split0_test_score  ...  \\\n",
       "0  {'max_depth': 7, 'max_features': 1, 'n_estimat...           0.681821  ...   \n",
       "1  {'max_depth': 7, 'max_features': 1, 'n_estimat...           0.681832  ...   \n",
       "2  {'max_depth': 7, 'max_features': 1, 'n_estimat...           0.681453  ...   \n",
       "3  {'max_depth': 7, 'max_features': 3, 'n_estimat...           0.681569  ...   \n",
       "4  {'max_depth': 7, 'max_features': 3, 'n_estimat...           0.681777  ...   \n",
       "\n",
       "   mean_test_score  std_test_score  rank_test_score  split0_train_score  \\\n",
       "0         0.687160        0.003437               65            0.696753   \n",
       "1         0.687160        0.003527               64            0.696620   \n",
       "2         0.686593        0.003482               69            0.696266   \n",
       "3         0.685238        0.004014               70            0.699668   \n",
       "4         0.685225        0.003800               71            0.699756   \n",
       "\n",
       "   split1_train_score  split2_train_score  split3_train_score  \\\n",
       "0            0.693454            0.698883            0.698399   \n",
       "1            0.693419            0.698801            0.698906   \n",
       "2            0.693460            0.699236            0.698812   \n",
       "3            0.696050            0.700237            0.700631   \n",
       "4            0.695605            0.699971            0.700357   \n",
       "\n",
       "   split4_train_score  mean_train_score  std_train_score  \n",
       "0            0.695705          0.696639         0.001958  \n",
       "1            0.695838          0.696717         0.002040  \n",
       "2            0.695666          0.696688         0.002128  \n",
       "3            0.697697          0.698857         0.001728  \n",
       "4            0.697488          0.698635         0.001817  \n",
       "\n",
       "[5 rows x 24 columns]"
      ]
     },
     "execution_count": 48,
     "metadata": {},
     "output_type": "execute_result"
    }
   ],
   "source": [
    "r = pd.DataFrame(grid_search.cv_results_)\n",
    "r.head()"
   ]
  },
  {
   "cell_type": "code",
   "execution_count": 49,
   "id": "0dad099d",
   "metadata": {},
   "outputs": [
    {
     "name": "stdout",
     "output_type": "stream",
     "text": [
      "0.6871595048330104 {'max_depth': 7, 'max_features': 1, 'n_estimators': 220}\n",
      "0.6871599840682003 {'max_depth': 7, 'max_features': 1, 'n_estimators': 250}\n",
      "0.6865928560814969 {'max_depth': 7, 'max_features': 1, 'n_estimators': 300}\n",
      "0.6852383792097628 {'max_depth': 7, 'max_features': 3, 'n_estimators': 220}\n",
      "0.6852247720467277 {'max_depth': 7, 'max_features': 3, 'n_estimators': 250}\n",
      "0.6849127795664666 {'max_depth': 7, 'max_features': 3, 'n_estimators': 300}\n",
      "0.6871716022517516 {'max_depth': 7, 'max_features': 5, 'n_estimators': 220}\n",
      "0.6873019989908553 {'max_depth': 7, 'max_features': 5, 'n_estimators': 250}\n",
      "0.6870293341483745 {'max_depth': 7, 'max_features': 5, 'n_estimators': 300}\n",
      "0.6904653571698904 {'max_depth': 8, 'max_features': 1, 'n_estimators': 220}\n",
      "0.6900457696309591 {'max_depth': 8, 'max_features': 1, 'n_estimators': 250}\n",
      "0.689687124883714 {'max_depth': 8, 'max_features': 1, 'n_estimators': 300}\n",
      "0.6891492630232121 {'max_depth': 8, 'max_features': 3, 'n_estimators': 220}\n",
      "0.6889956294512511 {'max_depth': 8, 'max_features': 3, 'n_estimators': 250}\n",
      "0.6887479208183299 {'max_depth': 8, 'max_features': 3, 'n_estimators': 300}\n",
      "0.690797601668873 {'max_depth': 8, 'max_features': 5, 'n_estimators': 220}\n",
      "0.6909500992647846 {'max_depth': 8, 'max_features': 5, 'n_estimators': 250}\n",
      "0.6908238506410657 {'max_depth': 8, 'max_features': 5, 'n_estimators': 300}\n",
      "0.6918843057057773 {'max_depth': 9, 'max_features': 1, 'n_estimators': 220}\n",
      "0.6916086486338147 {'max_depth': 9, 'max_features': 1, 'n_estimators': 250}\n",
      "0.690983929368252 {'max_depth': 9, 'max_features': 1, 'n_estimators': 300}\n",
      "0.6908267056494151 {'max_depth': 9, 'max_features': 3, 'n_estimators': 220}\n",
      "0.6902560432736611 {'max_depth': 9, 'max_features': 3, 'n_estimators': 250}\n",
      "0.6906582089385921 {'max_depth': 9, 'max_features': 3, 'n_estimators': 300}\n",
      "0.6921128013059171 {'max_depth': 9, 'max_features': 5, 'n_estimators': 220}\n",
      "0.691357830773792 {'max_depth': 9, 'max_features': 5, 'n_estimators': 250}\n",
      "0.6914851170141632 {'max_depth': 9, 'max_features': 5, 'n_estimators': 300}\n",
      "0.6922415923455756 {'max_depth': 10, 'max_features': 1, 'n_estimators': 220}\n",
      "0.6918598666048277 {'max_depth': 10, 'max_features': 1, 'n_estimators': 250}\n",
      "0.6913935030303 {'max_depth': 10, 'max_features': 1, 'n_estimators': 300}\n",
      "0.6916617895868525 {'max_depth': 10, 'max_features': 3, 'n_estimators': 220}\n",
      "0.6916105025769725 {'max_depth': 10, 'max_features': 3, 'n_estimators': 250}\n",
      "0.6914321839902209 {'max_depth': 10, 'max_features': 3, 'n_estimators': 300}\n",
      "0.6911834938414045 {'max_depth': 10, 'max_features': 5, 'n_estimators': 220}\n",
      "0.6908769816778361 {'max_depth': 10, 'max_features': 5, 'n_estimators': 250}\n",
      "0.6907757161292681 {'max_depth': 10, 'max_features': 5, 'n_estimators': 300}\n",
      "0.6868246375356002 {'bootstrap': False, 'max_depth': 7, 'max_features': 1, 'n_estimators': 220}\n",
      "0.6867077031191748 {'bootstrap': False, 'max_depth': 7, 'max_features': 1, 'n_estimators': 250}\n",
      "0.6872306198319891 {'bootstrap': False, 'max_depth': 7, 'max_features': 1, 'n_estimators': 300}\n",
      "0.6874177367928296 {'bootstrap': False, 'max_depth': 7, 'max_features': 3, 'n_estimators': 220}\n",
      "0.687466902510611 {'bootstrap': False, 'max_depth': 7, 'max_features': 3, 'n_estimators': 250}\n",
      "0.6874687276707376 {'bootstrap': False, 'max_depth': 7, 'max_features': 3, 'n_estimators': 300}\n",
      "0.6888075994624827 {'bootstrap': False, 'max_depth': 7, 'max_features': 5, 'n_estimators': 220}\n",
      "0.6886770316583275 {'bootstrap': False, 'max_depth': 7, 'max_features': 5, 'n_estimators': 250}\n",
      "0.6887684661190185 {'bootstrap': False, 'max_depth': 7, 'max_features': 5, 'n_estimators': 300}\n",
      "0.6904575598887605 {'bootstrap': False, 'max_depth': 8, 'max_features': 1, 'n_estimators': 220}\n",
      "0.6902779860176915 {'bootstrap': False, 'max_depth': 8, 'max_features': 1, 'n_estimators': 250}\n",
      "0.6900873978088867 {'bootstrap': False, 'max_depth': 8, 'max_features': 1, 'n_estimators': 300}\n",
      "0.690016838523767 {'bootstrap': False, 'max_depth': 8, 'max_features': 3, 'n_estimators': 220}\n",
      "0.6900342467610541 {'bootstrap': False, 'max_depth': 8, 'max_features': 3, 'n_estimators': 250}\n",
      "0.6901282271976305 {'bootstrap': False, 'max_depth': 8, 'max_features': 3, 'n_estimators': 300}\n",
      "0.6928881817221202 {'bootstrap': False, 'max_depth': 8, 'max_features': 5, 'n_estimators': 220}\n",
      "0.6929965729304037 {'bootstrap': False, 'max_depth': 8, 'max_features': 5, 'n_estimators': 250}\n",
      "0.6926913230786664 {'bootstrap': False, 'max_depth': 8, 'max_features': 5, 'n_estimators': 300}\n",
      "0.6909296900678545 {'bootstrap': False, 'max_depth': 9, 'max_features': 1, 'n_estimators': 220}\n",
      "0.6912818419723368 {'bootstrap': False, 'max_depth': 9, 'max_features': 1, 'n_estimators': 250}\n",
      "0.6910473326337556 {'bootstrap': False, 'max_depth': 9, 'max_features': 1, 'n_estimators': 300}\n",
      "0.6926128185709592 {'bootstrap': False, 'max_depth': 9, 'max_features': 3, 'n_estimators': 220}\n",
      "0.6928008474248246 {'bootstrap': False, 'max_depth': 9, 'max_features': 3, 'n_estimators': 250}\n",
      "0.6927617760891757 {'bootstrap': False, 'max_depth': 9, 'max_features': 3, 'n_estimators': 300}\n",
      "0.6933369654336333 {'bootstrap': False, 'max_depth': 9, 'max_features': 5, 'n_estimators': 220}\n",
      "0.6932040141626441 {'bootstrap': False, 'max_depth': 9, 'max_features': 5, 'n_estimators': 250}\n",
      "0.6930446158048851 {'bootstrap': False, 'max_depth': 9, 'max_features': 5, 'n_estimators': 300}\n",
      "0.6907129290675704 {'bootstrap': False, 'max_depth': 10, 'max_features': 1, 'n_estimators': 220}\n",
      "0.6907621623341862 {'bootstrap': False, 'max_depth': 10, 'max_features': 1, 'n_estimators': 250}\n",
      "0.6903954542232046 {'bootstrap': False, 'max_depth': 10, 'max_features': 1, 'n_estimators': 300}\n",
      "0.6928219058450369 {'bootstrap': False, 'max_depth': 10, 'max_features': 3, 'n_estimators': 220}\n",
      "0.692485524164069 {'bootstrap': False, 'max_depth': 10, 'max_features': 3, 'n_estimators': 250}\n",
      "0.6926722478772136 {'bootstrap': False, 'max_depth': 10, 'max_features': 3, 'n_estimators': 300}\n",
      "0.6920846336787958 {'bootstrap': False, 'max_depth': 10, 'max_features': 5, 'n_estimators': 220}\n",
      "0.6920822768415169 {'bootstrap': False, 'max_depth': 10, 'max_features': 5, 'n_estimators': 250}\n",
      "0.6921150996204799 {'bootstrap': False, 'max_depth': 10, 'max_features': 5, 'n_estimators': 300}\n"
     ]
    }
   ],
   "source": [
    "cvres = grid_search.cv_results_\n",
    "for mean_score, params in zip(cvres[\"mean_test_score\"], cvres[\"params\"]):\n",
    "    print(mean_score, params)"
   ]
  },
  {
   "cell_type": "code",
   "execution_count": 50,
   "id": "1027759d",
   "metadata": {},
   "outputs": [
    {
     "data": {
      "text/plain": [
       "array([0.28436444, 0.04725078, 0.15017044, 0.30024384, 0.04640207,\n",
       "       0.13982236, 0.01603469, 0.01571137])"
      ]
     },
     "execution_count": 50,
     "metadata": {},
     "output_type": "execute_result"
    }
   ],
   "source": [
    "feature_importances = grid_search.best_estimator_.feature_importances_\n",
    "feature_importances"
   ]
  },
  {
   "cell_type": "markdown",
   "id": "bf056a2a",
   "metadata": {},
   "source": [
    "### KNN"
   ]
  },
  {
   "cell_type": "code",
   "execution_count": 51,
   "id": "16f07e53",
   "metadata": {},
   "outputs": [
    {
     "data": {
      "text/plain": [
       "[(0.702729509591709, 9),\n",
       " (0.6985094753912143, 11),\n",
       " (0.6977558561012459, 25),\n",
       " (0.6970154602541097, 17),\n",
       " (0.6968204468070871, 8),\n",
       " (0.6965773775831409, 29),\n",
       " (0.6962552208520414, 30),\n",
       " (0.6960804649673963, 18),\n",
       " (0.6954512427735916, 35),\n",
       " (0.6953555891796581, 37),\n",
       " (0.6952824544368482, 27),\n",
       " (0.6949381853970014, 21),\n",
       " (0.6949102061501324, 31),\n",
       " (0.6948964223297465, 32),\n",
       " (0.6946849366055358, 26),\n",
       " (0.6946109723230962, 24),\n",
       " (0.6946073953494198, 39),\n",
       " (0.6944344864107477, 38),\n",
       " (0.6944155836628663, 22),\n",
       " (0.6943904641906988, 23),\n",
       " (0.6942601317375094, 19),\n",
       " (0.6942532185991311, 13),\n",
       " (0.6939048721106353, 33),\n",
       " (0.6938865456368776, 16),\n",
       " (0.6937418587900045, 15),\n",
       " (0.693386929832759, 34),\n",
       " (0.6933806768227582, 12),\n",
       " (0.693271387495126, 28),\n",
       " (0.6930891261714164, 43),\n",
       " (0.6929003777150051, 10),\n",
       " (0.6926890981571112, 14),\n",
       " (0.6926501932471703, 20),\n",
       " (0.6923117716611645, 36),\n",
       " (0.6921523455223306, 7),\n",
       " (0.692078014900394, 69),\n",
       " (0.6919551786948122, 40),\n",
       " (0.6919307332738379, 41),\n",
       " (0.6915376323243473, 42),\n",
       " (0.6912769089704074, 45),\n",
       " (0.6911570628603004, 44),\n",
       " (0.69068220377108, 46),\n",
       " (0.690635797611251, 70),\n",
       " (0.689630627364324, 52),\n",
       " (0.6893927003139673, 72),\n",
       " (0.6892423308788305, 68),\n",
       " (0.6891705176563138, 53),\n",
       " (0.6887728677357308, 73),\n",
       " (0.6886686175830566, 51),\n",
       " (0.68863214713604, 54),\n",
       " (0.6885990221049216, 67),\n",
       " (0.6885314429096309, 71),\n",
       " (0.6884711313850331, 48),\n",
       " (0.6883301892377205, 66),\n",
       " (0.6882829846843006, 47),\n",
       " (0.6881800720638236, 49),\n",
       " (0.6880959771651863, 56),\n",
       " (0.6878262023886821, 58),\n",
       " (0.687277198505182, 64),\n",
       " (0.6872187998887236, 74),\n",
       " (0.6872058352797985, 76),\n",
       " (0.6871479459576729, 75),\n",
       " (0.6870310858400613, 63),\n",
       " (0.6869209369010438, 60),\n",
       " (0.6868656706235855, 50),\n",
       " (0.6868316260096956, 57),\n",
       " (0.686788382658928, 61),\n",
       " (0.6867510891458644, 59),\n",
       " (0.6864646031337556, 65),\n",
       " (0.6860786723048814, 55),\n",
       " (0.6859192614816056, 62),\n",
       " (0.6857619054143964, 77),\n",
       " (0.6856588343964704, 81),\n",
       " (0.6850232577889512, 78),\n",
       " (0.6849068303067783, 5),\n",
       " (0.6845563366722887, 82),\n",
       " (0.6842204733804931, 79),\n",
       " (0.6827751826214482, 80),\n",
       " (0.6825780511804803, 83),\n",
       " (0.681647334113769, 85),\n",
       " (0.6815110342741608, 6),\n",
       " (0.6811090515952861, 86),\n",
       " (0.6810777362296472, 87),\n",
       " (0.6808840725980445, 89),\n",
       " (0.6806772577101183, 84),\n",
       " (0.6804433144973077, 90),\n",
       " (0.6797802988670827, 88),\n",
       " (0.6782610555781342, 91),\n",
       " (0.67760855315361, 93),\n",
       " (0.6768684350184223, 94),\n",
       " (0.6766990191290341, 92),\n",
       " (0.6759705613952458, 95),\n",
       " (0.6749020257120363, 97),\n",
       " (0.6747748409604136, 4),\n",
       " (0.6740281936535244, 99),\n",
       " (0.6738741296170407, 98),\n",
       " (0.6736934671982193, 3),\n",
       " (0.6728311888141774, 96),\n",
       " (0.6523385042521552, 2),\n",
       " (0.6430725408653116, 1)]"
      ]
     },
     "execution_count": 51,
     "metadata": {},
     "output_type": "execute_result"
    }
   ],
   "source": [
    "scores_list = []\n",
    "for i in range(1, 100):\n",
    "    knn = KNeighborsClassifier(n_neighbors=i)\n",
    "    knn.fit(X_train, y_train.values.ravel())\n",
    "    scores = cross_val_score(knn, X_val, y_val.values.ravel(),\n",
    "                         scoring=make_scorer(f1_score, average='macro'), \n",
    "                         cv=10)\n",
    "    scores_list.append((scores.mean(), i))\n",
    "    \n",
    "scores_list = sorted(scores_list,reverse=True)\n",
    "scores_list"
   ]
  },
  {
   "cell_type": "code",
   "execution_count": 52,
   "id": "a0ed776f",
   "metadata": {},
   "outputs": [
    {
     "data": {
      "text/plain": [
       "KNeighborsClassifier(n_neighbors=9)"
      ]
     },
     "execution_count": 52,
     "metadata": {},
     "output_type": "execute_result"
    }
   ],
   "source": [
    "knn = KNeighborsClassifier(n_neighbors=scores_list[0][1])\n",
    "knn.fit(X_train, y_train.values.ravel())"
   ]
  },
  {
   "cell_type": "code",
   "execution_count": 53,
   "id": "de0b5984",
   "metadata": {},
   "outputs": [
    {
     "name": "stdout",
     "output_type": "stream",
     "text": [
      "KNeighborsClassifier 0.6960947987436167\n"
     ]
    }
   ],
   "source": [
    "y_pred = knn.predict(X_val)\n",
    "print(knn.__class__.__name__, f1_score(y_val, y_pred, average='macro'))"
   ]
  },
  {
   "cell_type": "markdown",
   "id": "c6c4797f",
   "metadata": {},
   "source": [
    "## 7. Ensemble methods\n",
    "\n",
    "We have two candidates that look very promising (KNN and Random Forest). Let's try if ensambling models can perform better."
   ]
  },
  {
   "cell_type": "markdown",
   "id": "0b26ce37",
   "metadata": {},
   "source": [
    "### Gradient Boosting"
   ]
  },
  {
   "cell_type": "code",
   "execution_count": 54,
   "id": "4f784b38",
   "metadata": {},
   "outputs": [
    {
     "data": {
      "text/plain": [
       "GradientBoostingClassifier(learning_rate=1.0, max_depth=1, random_state=0)"
      ]
     },
     "execution_count": 54,
     "metadata": {},
     "output_type": "execute_result"
    }
   ],
   "source": [
    "from sklearn.ensemble import GradientBoostingClassifier\n",
    "gbc = GradientBoostingClassifier(n_estimators=100, learning_rate=1.0,\n",
    "                                 max_depth=1, random_state=0)\n",
    "gbc.fit(X_train, y_train.values.ravel())"
   ]
  },
  {
   "cell_type": "code",
   "execution_count": 55,
   "id": "9ce9e44c",
   "metadata": {},
   "outputs": [
    {
     "name": "stdout",
     "output_type": "stream",
     "text": [
      "Scores: [0.64917811 0.56065016 0.66701372 0.67678669 0.69901616 0.53953967\n",
      " 0.70914998 0.70331299 0.685327   0.66057329]\n",
      "Mean: 0.6550547755380356\n",
      "Standard deviation: 0.05571392228580287\n"
     ]
    }
   ],
   "source": [
    "scores = cross_val_score(gbc, X_val, y_val.values.ravel(),                          \n",
    "                         scoring=make_scorer(f1_score, average='macro'), \n",
    "                         cv=10)\n",
    "display_scores(scores)"
   ]
  },
  {
   "cell_type": "markdown",
   "id": "f1cfda32",
   "metadata": {},
   "source": [
    "### Adaboost"
   ]
  },
  {
   "cell_type": "code",
   "execution_count": 56,
   "id": "1c359e77",
   "metadata": {},
   "outputs": [
    {
     "data": {
      "text/plain": [
       "AdaBoostClassifier(base_estimator=DecisionTreeClassifier(max_depth=7),\n",
       "                   learning_rate=0.5, n_estimators=200)"
      ]
     },
     "execution_count": 56,
     "metadata": {},
     "output_type": "execute_result"
    }
   ],
   "source": [
    "from sklearn.ensemble import AdaBoostClassifier\n",
    "ada_clf = AdaBoostClassifier(\n",
    "DecisionTreeClassifier(max_depth=7), n_estimators=200,\n",
    "algorithm=\"SAMME.R\", learning_rate=0.5)\n",
    "ada_clf.fit(X_train, y_train.values.ravel())"
   ]
  },
  {
   "cell_type": "code",
   "execution_count": 57,
   "id": "07389f41",
   "metadata": {},
   "outputs": [
    {
     "name": "stdout",
     "output_type": "stream",
     "text": [
      "Scores: [0.6755789  0.57971234 0.6008059  0.63917686 0.64203874 0.66201679\n",
      " 0.6311973  0.65781051 0.63896168 0.65508686]\n",
      "Mean: 0.6382385886417815\n",
      "Standard deviation: 0.027420025665039066\n"
     ]
    }
   ],
   "source": [
    "scores = cross_val_score(ada_clf, X_val, y_val.values.ravel(),                          \n",
    "                         scoring=make_scorer(f1_score, average='macro'), \n",
    "                         cv=10, n_jobs=-1)\n",
    "display_scores(scores)"
   ]
  },
  {
   "cell_type": "markdown",
   "id": "284aa626",
   "metadata": {},
   "source": [
    "### Voting"
   ]
  },
  {
   "cell_type": "code",
   "execution_count": 58,
   "id": "79429606",
   "metadata": {},
   "outputs": [
    {
     "data": {
      "text/plain": [
       "VotingClassifier(estimators=[('lr', LogisticRegression(max_iter=1000)),\n",
       "                             ('dtree',\n",
       "                              DecisionTreeClassifier(max_depth=8,\n",
       "                                                     random_state=0)),\n",
       "                             ('ada_clf',\n",
       "                              AdaBoostClassifier(base_estimator=DecisionTreeClassifier(max_depth=7),\n",
       "                                                 learning_rate=0.5,\n",
       "                                                 n_estimators=200)),\n",
       "                             ('gbc',\n",
       "                              GradientBoostingClassifier(learning_rate=1.0,\n",
       "                                                         max_depth=1,\n",
       "                                                         random_state=0)),\n",
       "                             ('nb', GaussianNB()),\n",
       "                             ('clf',\n",
       "                              RandomForestClassifier(max_depth=8,\n",
       "                                                     max_features=2,\n",
       "                                                     n_estimators=220,\n",
       "                                                     random_state=0)),\n",
       "                             ('knn', KNeighborsClassifier(n_neighbors=9))],\n",
       "                 voting='soft')"
      ]
     },
     "execution_count": 58,
     "metadata": {},
     "output_type": "execute_result"
    }
   ],
   "source": [
    "from sklearn.ensemble import VotingClassifier\n",
    "voting_clf = VotingClassifier(\n",
    "estimators=[('lr', lr), ('dtree', dtree),\n",
    "            ('ada_clf', ada_clf), ('gbc', gbc),\n",
    "            ('nb', nb), ('clf', clf), ('knn', knn)], voting='soft')\n",
    "voting_clf.fit(X_train, y_train.values.ravel())"
   ]
  },
  {
   "cell_type": "code",
   "execution_count": 59,
   "id": "bc394316",
   "metadata": {},
   "outputs": [
    {
     "name": "stdout",
     "output_type": "stream",
     "text": [
      "LogisticRegression 0.6595023563881897\n",
      "RandomForestClassifier 0.698443246499798\n",
      "DecisionTreeClassifier 0.6969669989491286\n",
      "GradientBoostingClassifier 0.6830586000483915\n",
      "AdaBoostClassifier 0.5912334004211522\n",
      "KNeighborsClassifier 0.6960947987436167\n",
      "LinearSVC 0.5568518545487483\n",
      "GaussianNB 0.6767484204153037\n",
      "VotingClassifier 0.7016765067307391\n"
     ]
    }
   ],
   "source": [
    "from sklearn.metrics import f1_score\n",
    "for cf in (lr, clf, dtree, gbc, ada_clf, knn, svm, nb, voting_clf):\n",
    "    cf.fit(X_train, y_train.values.ravel())\n",
    "    y_pred = cf.predict(X_val)\n",
    "    print(cf.__class__.__name__, f1_score(y_val, y_pred, average='macro'))"
   ]
  },
  {
   "cell_type": "markdown",
   "id": "1eae6fb2",
   "metadata": {},
   "source": [
    "Voting looks very promising!"
   ]
  },
  {
   "cell_type": "markdown",
   "id": "9dbe1cb3",
   "metadata": {},
   "source": [
    "## 8. TEST\n",
    "\n",
    "At this point random forest, voting and knn performed better than the rest of the classifiers in the validation set. Let's test them with the best parameters on the test set and choose the best!"
   ]
  },
  {
   "cell_type": "markdown",
   "id": "973b15b7",
   "metadata": {},
   "source": [
    "### Random Forest"
   ]
  },
  {
   "cell_type": "code",
   "execution_count": 60,
   "id": "81fc1591",
   "metadata": {},
   "outputs": [
    {
     "data": {
      "text/plain": [
       "RandomForestClassifier(max_depth=9, max_features=5, n_estimators=220,\n",
       "                       random_state=0)"
      ]
     },
     "execution_count": 60,
     "metadata": {},
     "output_type": "execute_result"
    }
   ],
   "source": [
    "clf = RandomForestClassifier(max_depth=grid_search.best_params_[\"max_depth\"],\n",
    "                             random_state=0,\n",
    "                             max_features=grid_search.best_params_[\"max_features\"],\n",
    "                             n_estimators=grid_search.best_params_[\"n_estimators\"],)\n",
    "clf.fit(X_train, y_train.values.ravel())\n"
   ]
  },
  {
   "cell_type": "code",
   "execution_count": 61,
   "id": "6cc05db0",
   "metadata": {},
   "outputs": [
    {
     "name": "stdout",
     "output_type": "stream",
     "text": [
      "Scores: [0.68857128 0.69095407 0.71284091 0.69316885 0.68138815 0.69341713\n",
      " 0.67386498 0.68727659 0.6673235  0.66367631]\n",
      "Mean: 0.6852481772500596\n",
      "Standard deviation: 0.013673547548991217\n"
     ]
    }
   ],
   "source": [
    "pred = clf.predict(X_test)\n",
    "scores = cross_val_score(clf, X_test, y_test.values.ravel(), scoring=make_scorer(f1_score, average='macro'),\n",
    "                         cv=10)\n",
    "display_scores(scores)"
   ]
  },
  {
   "cell_type": "markdown",
   "id": "66ddb169",
   "metadata": {},
   "source": [
    "### Voting"
   ]
  },
  {
   "cell_type": "code",
   "execution_count": 62,
   "id": "29e36ef0",
   "metadata": {},
   "outputs": [
    {
     "name": "stdout",
     "output_type": "stream",
     "text": [
      "Scores: [0.69266242 0.69285575 0.71149185 0.70664715 0.67305668 0.70489569\n",
      " 0.69285345 0.69029701 0.67103162 0.66622825]\n",
      "Mean: 0.6902019874581233\n",
      "Standard deviation: 0.01481872714567316\n"
     ]
    }
   ],
   "source": [
    "scores = cross_val_score(voting_clf, X_test, y_test.values.ravel(),\n",
    "                         scoring=make_scorer(f1_score, average='macro'),\n",
    "                         cv=10,\n",
    "                         n_jobs=-1)\n",
    "display_scores(scores)"
   ]
  },
  {
   "cell_type": "markdown",
   "id": "31503f6d",
   "metadata": {},
   "source": [
    "### KNN"
   ]
  },
  {
   "cell_type": "code",
   "execution_count": 63,
   "id": "ca1ee510",
   "metadata": {},
   "outputs": [
    {
     "name": "stdout",
     "output_type": "stream",
     "text": [
      "Scores: [0.69107657 0.67719334 0.69000148 0.68178223 0.67709126 0.70021381\n",
      " 0.65609052 0.69183773 0.67464588 0.65482987]\n",
      "Mean: 0.6794762689011018\n",
      "Standard deviation: 0.014220009907029638\n"
     ]
    }
   ],
   "source": [
    "scores = cross_val_score(knn, X_test, y_test.values.ravel(), scoring=make_scorer(f1_score, average='macro'),\n",
    "                         cv=10)\n",
    "display_scores(scores)"
   ]
  },
  {
   "cell_type": "markdown",
   "id": "09448964",
   "metadata": {},
   "source": [
    "Voting performs slighly better than Random forest and knn. This is our best model. Let's generate the submission."
   ]
  },
  {
   "cell_type": "markdown",
   "id": "26f98ed1",
   "metadata": {},
   "source": [
    "# Submission"
   ]
  },
  {
   "cell_type": "code",
   "execution_count": 64,
   "id": "4af27bc8",
   "metadata": {},
   "outputs": [],
   "source": [
    "submission_x = pd.read_csv('mwc22-client_table+-+test_x.csv', decimal=',')\n",
    "submission_x.columns = [c.replace(' ', '_') for c in submission_x.columns]\n",
    "submission_x_tr = full_pipe.transform(submission_x)\n",
    "y_pred = voting_clf.predict(submission_x_tr)"
   ]
  },
  {
   "cell_type": "code",
   "execution_count": 65,
   "id": "e661c021",
   "metadata": {},
   "outputs": [],
   "source": [
    "d = {'CLIENT ID': submission_x[\"CLIENT_ID\"], 'CLIENT SEGMENT': y_pred}\n",
    "df_output = pd.DataFrame(data=d)\n",
    "df_output = df_output.reset_index(drop=True)\n",
    "df_output['CLIENT SEGMENT'] = df_output['CLIENT SEGMENT'] + 1\n",
    "df_output.to_csv('results.csv', index=False)"
   ]
  },
  {
   "cell_type": "code",
   "execution_count": 66,
   "id": "185864ea",
   "metadata": {},
   "outputs": [
    {
     "data": {
      "text/html": [
       "<div>\n",
       "<style scoped>\n",
       "    .dataframe tbody tr th:only-of-type {\n",
       "        vertical-align: middle;\n",
       "    }\n",
       "\n",
       "    .dataframe tbody tr th {\n",
       "        vertical-align: top;\n",
       "    }\n",
       "\n",
       "    .dataframe thead th {\n",
       "        text-align: right;\n",
       "    }\n",
       "</style>\n",
       "<table border=\"1\" class=\"dataframe\">\n",
       "  <thead>\n",
       "    <tr style=\"text-align: right;\">\n",
       "      <th></th>\n",
       "      <th>CLIENT ID</th>\n",
       "      <th>CLIENT SEGMENT</th>\n",
       "    </tr>\n",
       "  </thead>\n",
       "  <tbody>\n",
       "    <tr>\n",
       "      <th>0</th>\n",
       "      <td>48352078</td>\n",
       "      <td>5</td>\n",
       "    </tr>\n",
       "    <tr>\n",
       "      <th>1</th>\n",
       "      <td>18072186</td>\n",
       "      <td>1</td>\n",
       "    </tr>\n",
       "    <tr>\n",
       "      <th>2</th>\n",
       "      <td>48352246</td>\n",
       "      <td>3</td>\n",
       "    </tr>\n",
       "    <tr>\n",
       "      <th>3</th>\n",
       "      <td>18070621</td>\n",
       "      <td>4</td>\n",
       "    </tr>\n",
       "    <tr>\n",
       "      <th>4</th>\n",
       "      <td>48352262</td>\n",
       "      <td>4</td>\n",
       "    </tr>\n",
       "    <tr>\n",
       "      <th>5</th>\n",
       "      <td>48359553</td>\n",
       "      <td>4</td>\n",
       "    </tr>\n",
       "    <tr>\n",
       "      <th>6</th>\n",
       "      <td>18071647</td>\n",
       "      <td>4</td>\n",
       "    </tr>\n",
       "    <tr>\n",
       "      <th>7</th>\n",
       "      <td>48359574</td>\n",
       "      <td>3</td>\n",
       "    </tr>\n",
       "    <tr>\n",
       "      <th>8</th>\n",
       "      <td>48359627</td>\n",
       "      <td>4</td>\n",
       "    </tr>\n",
       "    <tr>\n",
       "      <th>9</th>\n",
       "      <td>18070505</td>\n",
       "      <td>1</td>\n",
       "    </tr>\n",
       "    <tr>\n",
       "      <th>10</th>\n",
       "      <td>18071016</td>\n",
       "      <td>1</td>\n",
       "    </tr>\n",
       "    <tr>\n",
       "      <th>11</th>\n",
       "      <td>18071198</td>\n",
       "      <td>1</td>\n",
       "    </tr>\n",
       "    <tr>\n",
       "      <th>12</th>\n",
       "      <td>18071233</td>\n",
       "      <td>2</td>\n",
       "    </tr>\n",
       "    <tr>\n",
       "      <th>13</th>\n",
       "      <td>18071524</td>\n",
       "      <td>5</td>\n",
       "    </tr>\n",
       "    <tr>\n",
       "      <th>14</th>\n",
       "      <td>18071668</td>\n",
       "      <td>1</td>\n",
       "    </tr>\n",
       "    <tr>\n",
       "      <th>15</th>\n",
       "      <td>18072476</td>\n",
       "      <td>3</td>\n",
       "    </tr>\n",
       "    <tr>\n",
       "      <th>16</th>\n",
       "      <td>48352272</td>\n",
       "      <td>3</td>\n",
       "    </tr>\n",
       "    <tr>\n",
       "      <th>17</th>\n",
       "      <td>18072741</td>\n",
       "      <td>1</td>\n",
       "    </tr>\n",
       "    <tr>\n",
       "      <th>18</th>\n",
       "      <td>18072797</td>\n",
       "      <td>1</td>\n",
       "    </tr>\n",
       "  </tbody>\n",
       "</table>\n",
       "</div>"
      ],
      "text/plain": [
       "    CLIENT ID  CLIENT SEGMENT\n",
       "0    48352078               5\n",
       "1    18072186               1\n",
       "2    48352246               3\n",
       "3    18070621               4\n",
       "4    48352262               4\n",
       "5    48359553               4\n",
       "6    18071647               4\n",
       "7    48359574               3\n",
       "8    48359627               4\n",
       "9    18070505               1\n",
       "10   18071016               1\n",
       "11   18071198               1\n",
       "12   18071233               2\n",
       "13   18071524               5\n",
       "14   18071668               1\n",
       "15   18072476               3\n",
       "16   48352272               3\n",
       "17   18072741               1\n",
       "18   18072797               1"
      ]
     },
     "execution_count": 66,
     "metadata": {},
     "output_type": "execute_result"
    }
   ],
   "source": [
    "df_output"
   ]
  }
 ],
 "metadata": {
  "kernelspec": {
   "display_name": "Python 3",
   "language": "python",
   "name": "python3"
  },
  "language_info": {
   "codemirror_mode": {
    "name": "ipython",
    "version": 3
   },
   "file_extension": ".py",
   "mimetype": "text/x-python",
   "name": "python",
   "nbconvert_exporter": "python",
   "pygments_lexer": "ipython3",
   "version": "3.8.8"
  }
 },
 "nbformat": 4,
 "nbformat_minor": 5
}
